{
  "nbformat": 4,
  "nbformat_minor": 0,
  "metadata": {
    "colab": {
      "name": "MercadoSeminovos2021.ipynb",
      "provenance": [],
      "collapsed_sections": [],
      "mount_file_id": "103lX4o4TQ68Kn9ABN5HgFF-_12-xVQxQ",
      "authorship_tag": "ABX9TyOiHgMyTE2rY0LdX0KSdX7D",
      "include_colab_link": true
    },
    "kernelspec": {
      "name": "python3",
      "display_name": "Python 3"
    },
    "language_info": {
      "name": "python"
    }
  },
  "cells": [
    {
      "cell_type": "markdown",
      "metadata": {
        "id": "view-in-github",
        "colab_type": "text"
      },
      "source": [
        "<a href=\"https://colab.research.google.com/github/PauloCesarEngProd/Data_Science/blob/main/WebMotors_Seminovos_jul2021/MercadoSeminovos2021.ipynb\" target=\"_parent\"><img src=\"https://colab.research.google.com/assets/colab-badge.svg\" alt=\"Open In Colab\"/></a>"
      ]
    },
    {
      "cell_type": "markdown",
      "metadata": {
        "id": "fJLNf9pO3w1Z"
      },
      "source": [
        "---\n",
        "\n",
        "# Análise dos Dados de *Web Scraping da WebMotors*\n",
        "<p align=\"top\"><img src=\"https://cdn.pixabay.com/photo/2018/12/10/10/21/earth-3866609__340.jpg\"></p>\n",
        "\n",
        "\n",
        "## O que é Web Scrapping?\n",
        "A coleta de dados web, ou raspagem web, é uma forma de mineração que permite a extração de dados de sites da web convertendo-os em informação estruturada para posterior análise. O tipo mais básico de coleta é o download manual das páginas, copiando e colando o conteúdo, e isso pode ser feito por qualquer pessoa. Contudo, essa técnica geralmente é feita através de um software que simula uma navegação humana por diversos sites, extraindo informações específicas. É um campo com ativa evolução que compartilha um objetivo comum com a visão da web semântica, uma iniciativa ambiciosa que ainda requer avanços no processamento de texto, compreensão semantical, inteligência artificial e interação humano-computador. A coleta de dados web é muito semelhante à indexação web (utilizado pela maioria dos motores de busca), mas a motivação final é muito diferente. A indexação web é usada para ajudar a tornar os motores de busca mais eficientes, já a coleta de dados é tipicamente usada para diferentes razões, como comparação de preços online, monitoramentos meteorológicos, pesquisas de mercado, coleta de dados governamentais, monitoramento de dados e, em alguns casos, roubo.\n",
        "#### `https://pt.wikipedia.org/wiki/Coleta_de_dados_web`\n",
        "\n",
        "\n",
        "\n",
        "**Neste *notebook*, serão analisados os dados referentes à coleta realizada em 30 de julho de 2021, buscando identificar insights que possam ser extraídos a partir destes dados brutos quanto à comercialização de veículos seminovos.**\n",
        "\n",
        "\n",
        "***ATENÇÃO:* Trabalho de finalidade didática com utilização de dados disponíveis na web.**"
      ]
    },
    {
      "cell_type": "markdown",
      "metadata": {
        "id": "otVpEdSYIA8D"
      },
      "source": [
        "# Realizando as ações iniciais\n",
        "\n",
        "**Bloco 1:** Importação das bibliotecas que serão utilizadas no trabalho."
      ]
    },
    {
      "cell_type": "code",
      "metadata": {
        "id": "Nym7eRHh0435"
      },
      "source": [
        "# Bloco 1: Importação de bibliotecas para trabalho\n",
        "import warnings\n",
        "warnings.filterwarnings('ignore')\n",
        "\n",
        "import pandas as pd\n",
        "import matplotlib.pyplot as plt\n",
        "import numpy as np\n",
        "import seaborn as sns\n",
        "#import folium\n",
        "\n",
        "#configuração de visualizações\n",
        "sns.set_style()\n",
        "%matplotlib inline"
      ],
      "execution_count": null,
      "outputs": []
    },
    {
      "cell_type": "markdown",
      "metadata": {
        "id": "lnHlnN6CZQ22"
      },
      "source": [
        "# Realizando as ações iniciais\n",
        "\n",
        "**Bloco 2:** Realizando da carga do arquivo de dados que será analisado."
      ]
    },
    {
      "cell_type": "code",
      "metadata": {
        "id": "nnnrugb33Cov"
      },
      "source": [
        "# Bloco 2: Importação do arquivo de dados para um Pandas DataFrame (df)\n",
        "arquivo = '/content/drive/MyDrive/Colab Notebooks/Portfolio/MercadoSeminovos2021/Extração 30.07.21.xlsx'\n",
        "df = pd.read_excel(arquivo)"
      ],
      "execution_count": null,
      "outputs": []
    },
    {
      "cell_type": "markdown",
      "metadata": {
        "id": "dWmrg-nM3AxJ"
      },
      "source": [
        "# Sobre os Dados\n",
        "\n",
        "<p align=\"top\"><img src=\"https://cdn.pixabay.com/photo/2017/02/01/21/47/cube-2031512__340.jpg\"></p>\n",
        "\n",
        "\n",
        "Objetivo aqui é possibilitar um entendimento inicial de como estes dados estão estruturados.\n",
        "\n",
        "Esse conjunto de dados é interessante pois está organizado sob forma análitica de coleção de anúncios realizados em ambiente web em um dos maiores marketplaces nacionais.\n",
        "\n"
      ]
    },
    {
      "cell_type": "markdown",
      "metadata": {
        "id": "ukReEF2CIlgM"
      },
      "source": [
        "## Análise dos Dados\n",
        "\n",
        "Inicialmente será realizado uma analise exploratória, cujo objetivo é possibilitar um entendimento prévio de como estes dados estão estruturados.\n",
        "\n",
        "\n",
        "**Dicionário das variáveis**\n",
        "\n",
        "*Descrição das colunas do arquivo de dados*\n",
        "* `CodigoFipe` - Referência única da Tabela FIPE para identificação de veículos \n",
        "* `Marca` - Identificação da montadora do veículo\n",
        "* `Modelo` - Identificação do tipo do veículo\n",
        "* `AnoModelo` - Identificação do modelo do veículo conforme ano de lançamento\n",
        "* `AnoFabricacao` - Identificação do modelo do veículo conforme ano de fabricação\n",
        "* `RegraKM` - Variável categórica para agrupamento de períodos de quilometragem  \n",
        "* `Quilometragem` - Quilometragem atual do veículo\n",
        "* `PrecoAnuncio` - Valor do veículo anunciado\n",
        "* `TipoAnuncio` - Identificação de anunciante Pessoa Física (PF) ou Pessoa jurírica (PJ) \n",
        "* `DescricaoSite` - Descrição do veículo anunciado\n",
        "* `Cidade` - Cidade do veículo anunciado\n",
        "* `Estado` - Estado do veículo anunciado\n",
        "* `Pais` - País do veículo anunciado\n",
        "* `MarketPlace` - Local de veículação do anúncio\n",
        "* `Vendedor` - identificação do anunciante\n",
        "* `VendedorMarketplace` - ???\n",
        "* `IdAnuncio` - identificador do anúncio no Vendedor\n",
        "* `LinkAnuncio` - URL do anúncio\n",
        "* `DATA` - Data de coleta dos dados\n"
      ]
    },
    {
      "cell_type": "markdown",
      "metadata": {
        "id": "o7aNz66wIxTh"
      },
      "source": [
        "-------\n",
        "# Análises exploratórias iniciais\n",
        "<img alt=\"Colaboratory logo\" width=\"10%\" src=\"https://qualidadenapratica.files.wordpress.com/2012/06/analise.jpg?w=640\">\n",
        "\n",
        "\n",
        "**Bloco 1:** Obtenção do tamanho (volume de dados) do arquivo e identificação dos tipos de dados das variáveis (colunas) deste dataset .\n",
        "\n"
      ]
    },
    {
      "cell_type": "code",
      "metadata": {
        "colab": {
          "base_uri": "https://localhost:8080/"
        },
        "id": "-6PIk6mTKoWp",
        "outputId": "ca37b7aa-ab7d-4081-c7b9-09a0de1880d2"
      },
      "source": [
        "# Bloco 1: Obtenção do tamanho do arquivo e identificação dos tipos de dados\n",
        "\n",
        "#identificação do volume de dados do DataFrame\n",
        "print(\"Número de registros (entradas/linhas): \\t {}\".format(df.shape[0]))\n",
        "print(\"Número de variáveis (colunas): \\t {} \\n\".format(df.shape[1]))\n"
      ],
      "execution_count": null,
      "outputs": [
        {
          "output_type": "stream",
          "name": "stdout",
          "text": [
            "Número de registros (entradas/linhas): \t 92291\n",
            "Número de variáveis (colunas): \t 19 \n",
            "\n"
          ]
        }
      ]
    },
    {
      "cell_type": "code",
      "metadata": {
        "colab": {
          "base_uri": "https://localhost:8080/",
          "height": 374
        },
        "id": "_k5diWj4aIoK",
        "outputId": "7bbacb9e-8166-4037-9031-2bfa22cca6ec"
      },
      "source": [
        "# Bloco 1: verificação dos tipos de dados deste dataset\n",
        "print(\"Lista dos tipos de dados do conjunto em análises:\")\n",
        "display(df.dtypes)"
      ],
      "execution_count": null,
      "outputs": [
        {
          "output_type": "stream",
          "name": "stdout",
          "text": [
            "Lista dos tipos de dados do conjunto em análises:\n"
          ]
        },
        {
          "output_type": "display_data",
          "data": {
            "text/plain": [
              "CodigoFipe                     object\n",
              "Marca                          object\n",
              "Modelo                         object\n",
              "AnoModelo                       int64\n",
              "AnoFabricacao                   int64\n",
              "RegraKM                        object\n",
              "Quilometragem                   int64\n",
              "PrecoAnuncio                  float64\n",
              "TipoAnuncio                    object\n",
              "DescricaoSite                  object\n",
              "Cidade                         object\n",
              "Estado                         object\n",
              "Pais                           object\n",
              "MarketPlace                    object\n",
              "Vendedor                       object\n",
              "vendedorMarketplace            object\n",
              "IdAnuncio                       int64\n",
              "LinkAnuncio                    object\n",
              "DATA                   datetime64[ns]\n",
              "dtype: object"
            ]
          },
          "metadata": {}
        }
      ]
    },
    {
      "cell_type": "markdown",
      "metadata": {
        "id": "q15_Pi_XJ85W"
      },
      "source": [
        "# Análises exploratórias iniciais\n",
        "<img alt=\"Colaboratory logo\" width=\"10%\" src=\"https://qualidadenapratica.files.wordpress.com/2012/06/analise.jpg?w=640\">\n",
        "\n",
        "**Bloco 2:** Verificação dos primeiros 5 registros e dos 5 últimos registros do dataset para um conhecimento prévio dos dados sob trabalho.\n",
        "\n"
      ]
    },
    {
      "cell_type": "code",
      "metadata": {
        "colab": {
          "base_uri": "https://localhost:8080/",
          "height": 513
        },
        "id": "DYQKcTf725Ix",
        "outputId": "7e69b484-4ed1-438e-bd5d-00e919a54d38"
      },
      "source": [
        "#Bloco 2: verificando os 5 primeiros registros\n",
        "df.head(5)"
      ],
      "execution_count": null,
      "outputs": [
        {
          "output_type": "execute_result",
          "data": {
            "text/html": [
              "<div>\n",
              "<style scoped>\n",
              "    .dataframe tbody tr th:only-of-type {\n",
              "        vertical-align: middle;\n",
              "    }\n",
              "\n",
              "    .dataframe tbody tr th {\n",
              "        vertical-align: top;\n",
              "    }\n",
              "\n",
              "    .dataframe thead th {\n",
              "        text-align: right;\n",
              "    }\n",
              "</style>\n",
              "<table border=\"1\" class=\"dataframe\">\n",
              "  <thead>\n",
              "    <tr style=\"text-align: right;\">\n",
              "      <th></th>\n",
              "      <th>CodigoFipe</th>\n",
              "      <th>Marca</th>\n",
              "      <th>Modelo</th>\n",
              "      <th>AnoModelo</th>\n",
              "      <th>AnoFabricacao</th>\n",
              "      <th>RegraKM</th>\n",
              "      <th>Quilometragem</th>\n",
              "      <th>PrecoAnuncio</th>\n",
              "      <th>TipoAnuncio</th>\n",
              "      <th>DescricaoSite</th>\n",
              "      <th>Cidade</th>\n",
              "      <th>Estado</th>\n",
              "      <th>Pais</th>\n",
              "      <th>MarketPlace</th>\n",
              "      <th>Vendedor</th>\n",
              "      <th>vendedorMarketplace</th>\n",
              "      <th>IdAnuncio</th>\n",
              "      <th>LinkAnuncio</th>\n",
              "      <th>DATA</th>\n",
              "    </tr>\n",
              "  </thead>\n",
              "  <tbody>\n",
              "    <tr>\n",
              "      <th>0</th>\n",
              "      <td>NaN</td>\n",
              "      <td>KIA</td>\n",
              "      <td>SPORTAGE</td>\n",
              "      <td>2020</td>\n",
              "      <td>2019</td>\n",
              "      <td>ATÉ 15 (KM)</td>\n",
              "      <td>1628</td>\n",
              "      <td>171480.0</td>\n",
              "      <td>PJ</td>\n",
              "      <td>NEW SPORTAGE EX 2.0 FLEX 4P C/AR - AUTOMATICO</td>\n",
              "      <td>SAO PAULO</td>\n",
              "      <td>SP</td>\n",
              "      <td>BR</td>\n",
              "      <td>NaN</td>\n",
              "      <td>LOCALIZA</td>\n",
              "      <td>Localiza</td>\n",
              "      <td>102522</td>\n",
              "      <td>https://seminovos.localiza.com/kia_sportage_ex...</td>\n",
              "      <td>2021-07-30</td>\n",
              "    </tr>\n",
              "    <tr>\n",
              "      <th>1</th>\n",
              "      <td>NaN</td>\n",
              "      <td>FORD</td>\n",
              "      <td>ECOSPORT</td>\n",
              "      <td>2020</td>\n",
              "      <td>2019</td>\n",
              "      <td>ATÉ 15 (KM)</td>\n",
              "      <td>5940</td>\n",
              "      <td>81450.0</td>\n",
              "      <td>PJ</td>\n",
              "      <td>ECOSPORT SE 1.5 12V FLEX 4P C/AR - AUTOMATICO</td>\n",
              "      <td>SAO PAULO</td>\n",
              "      <td>SP</td>\n",
              "      <td>BR</td>\n",
              "      <td>NaN</td>\n",
              "      <td>LOCALIZA</td>\n",
              "      <td>Localiza</td>\n",
              "      <td>110397</td>\n",
              "      <td>https://seminovos.localiza.com/ford_ecosport_s...</td>\n",
              "      <td>2021-07-30</td>\n",
              "    </tr>\n",
              "    <tr>\n",
              "      <th>2</th>\n",
              "      <td>NaN</td>\n",
              "      <td>FORD</td>\n",
              "      <td>ECOSPORT</td>\n",
              "      <td>2020</td>\n",
              "      <td>2019</td>\n",
              "      <td>ATÉ 15 (KM)</td>\n",
              "      <td>6830</td>\n",
              "      <td>81070.0</td>\n",
              "      <td>PJ</td>\n",
              "      <td>ECOSPORT SE 1.5 12V FLEX 4P C/AR - AUTOMATICO</td>\n",
              "      <td>OSASCO</td>\n",
              "      <td>SP</td>\n",
              "      <td>BR</td>\n",
              "      <td>NaN</td>\n",
              "      <td>LOCALIZA</td>\n",
              "      <td>Localiza</td>\n",
              "      <td>108256</td>\n",
              "      <td>https://seminovos.localiza.com/ford_ecosport_s...</td>\n",
              "      <td>2021-07-30</td>\n",
              "    </tr>\n",
              "    <tr>\n",
              "      <th>3</th>\n",
              "      <td>NaN</td>\n",
              "      <td>BMW</td>\n",
              "      <td>X4</td>\n",
              "      <td>2017</td>\n",
              "      <td>2016</td>\n",
              "      <td>ATÉ 15 (KM)</td>\n",
              "      <td>7454</td>\n",
              "      <td>295910.0</td>\n",
              "      <td>PJ</td>\n",
              "      <td>X4 XDRIVE 35I M SPORT 3.0 4P C/AR - AUTOMATICO...</td>\n",
              "      <td>SAO PAULO</td>\n",
              "      <td>SP</td>\n",
              "      <td>BR</td>\n",
              "      <td>NaN</td>\n",
              "      <td>LOCALIZA</td>\n",
              "      <td>Localiza</td>\n",
              "      <td>105992</td>\n",
              "      <td>https://seminovos.localiza.com/bmw_x4_xdrive_2...</td>\n",
              "      <td>2021-07-30</td>\n",
              "    </tr>\n",
              "    <tr>\n",
              "      <th>4</th>\n",
              "      <td>NaN</td>\n",
              "      <td>JEEP</td>\n",
              "      <td>RENEGADE</td>\n",
              "      <td>2019</td>\n",
              "      <td>2019</td>\n",
              "      <td>ATÉ 15 (KM)</td>\n",
              "      <td>7496</td>\n",
              "      <td>94060.0</td>\n",
              "      <td>PJ</td>\n",
              "      <td>RENEGADE LONGITUDE 1.8 16V FLEX 4P C/AR - AUTO...</td>\n",
              "      <td>NITEROI</td>\n",
              "      <td>RJ</td>\n",
              "      <td>BR</td>\n",
              "      <td>NaN</td>\n",
              "      <td>LOCALIZA</td>\n",
              "      <td>Localiza</td>\n",
              "      <td>110387</td>\n",
              "      <td>https://seminovos.localiza.com/jeep_renegade_l...</td>\n",
              "      <td>2021-07-30</td>\n",
              "    </tr>\n",
              "  </tbody>\n",
              "</table>\n",
              "</div>"
            ],
            "text/plain": [
              "  CodigoFipe  ...       DATA\n",
              "0        NaN  ... 2021-07-30\n",
              "1        NaN  ... 2021-07-30\n",
              "2        NaN  ... 2021-07-30\n",
              "3        NaN  ... 2021-07-30\n",
              "4        NaN  ... 2021-07-30\n",
              "\n",
              "[5 rows x 19 columns]"
            ]
          },
          "metadata": {},
          "execution_count": 5
        }
      ]
    },
    {
      "cell_type": "code",
      "metadata": {
        "colab": {
          "base_uri": "https://localhost:8080/",
          "height": 411
        },
        "id": "t7zozVPGJe7d",
        "outputId": "66296c39-75d0-47ef-abd9-717266f223be"
      },
      "source": [
        "#Bloco 2: verificando os 5 últimos registros\n",
        "df.tail(5)"
      ],
      "execution_count": null,
      "outputs": [
        {
          "output_type": "execute_result",
          "data": {
            "text/html": [
              "<div>\n",
              "<style scoped>\n",
              "    .dataframe tbody tr th:only-of-type {\n",
              "        vertical-align: middle;\n",
              "    }\n",
              "\n",
              "    .dataframe tbody tr th {\n",
              "        vertical-align: top;\n",
              "    }\n",
              "\n",
              "    .dataframe thead th {\n",
              "        text-align: right;\n",
              "    }\n",
              "</style>\n",
              "<table border=\"1\" class=\"dataframe\">\n",
              "  <thead>\n",
              "    <tr style=\"text-align: right;\">\n",
              "      <th></th>\n",
              "      <th>CodigoFipe</th>\n",
              "      <th>Marca</th>\n",
              "      <th>Modelo</th>\n",
              "      <th>AnoModelo</th>\n",
              "      <th>AnoFabricacao</th>\n",
              "      <th>RegraKM</th>\n",
              "      <th>Quilometragem</th>\n",
              "      <th>PrecoAnuncio</th>\n",
              "      <th>TipoAnuncio</th>\n",
              "      <th>DescricaoSite</th>\n",
              "      <th>Cidade</th>\n",
              "      <th>Estado</th>\n",
              "      <th>Pais</th>\n",
              "      <th>MarketPlace</th>\n",
              "      <th>Vendedor</th>\n",
              "      <th>vendedorMarketplace</th>\n",
              "      <th>IdAnuncio</th>\n",
              "      <th>LinkAnuncio</th>\n",
              "      <th>DATA</th>\n",
              "    </tr>\n",
              "  </thead>\n",
              "  <tbody>\n",
              "    <tr>\n",
              "      <th>92286</th>\n",
              "      <td>015165-3</td>\n",
              "      <td>HYUNDAI</td>\n",
              "      <td>HB20</td>\n",
              "      <td>2020</td>\n",
              "      <td>2019</td>\n",
              "      <td>ACIMA 80 (KM)</td>\n",
              "      <td>1111111111</td>\n",
              "      <td>59800.0</td>\n",
              "      <td>PJ</td>\n",
              "      <td>1.0 12V FLEX SENSE MANUAL</td>\n",
              "      <td>CASCAVEL</td>\n",
              "      <td>PR</td>\n",
              "      <td>BR</td>\n",
              "      <td>WEBMOTORS</td>\n",
              "      <td>WEBMOTORS</td>\n",
              "      <td>P1 VEICULOS</td>\n",
              "      <td>37601307</td>\n",
              "      <td>https://www.webmotors.com.br/api/detail/car/37...</td>\n",
              "      <td>2021-07-30</td>\n",
              "    </tr>\n",
              "    <tr>\n",
              "      <th>92287</th>\n",
              "      <td>001315-3</td>\n",
              "      <td>FIAT</td>\n",
              "      <td>PALIO</td>\n",
              "      <td>2018</td>\n",
              "      <td>2017</td>\n",
              "      <td>ACIMA 80 (KM)</td>\n",
              "      <td>1111111111</td>\n",
              "      <td>59900.0</td>\n",
              "      <td>PJ</td>\n",
              "      <td>1.4 MPI ATTRACTIVE WEEKEND 8V FLEX 4P MANUAL</td>\n",
              "      <td>CURITIBA</td>\n",
              "      <td>PR</td>\n",
              "      <td>BR</td>\n",
              "      <td>WEBMOTORS</td>\n",
              "      <td>WEBMOTORS</td>\n",
              "      <td>W521 PREMIUM</td>\n",
              "      <td>37825984</td>\n",
              "      <td>https://www.webmotors.com.br/api/detail/car/37...</td>\n",
              "      <td>2021-07-30</td>\n",
              "    </tr>\n",
              "    <tr>\n",
              "      <th>92288</th>\n",
              "      <td>004421-0</td>\n",
              "      <td>CHEVROLET</td>\n",
              "      <td>COBALT</td>\n",
              "      <td>2017</td>\n",
              "      <td>2016</td>\n",
              "      <td>ACIMA 80 (KM)</td>\n",
              "      <td>1111111111</td>\n",
              "      <td>64900.0</td>\n",
              "      <td>PJ</td>\n",
              "      <td>1.8 MPFI LTZ 8V FLEX 4P AUTOMATICO</td>\n",
              "      <td>CURITIBA</td>\n",
              "      <td>PR</td>\n",
              "      <td>BR</td>\n",
              "      <td>WEBMOTORS</td>\n",
              "      <td>WEBMOTORS</td>\n",
              "      <td>W521 PREMIUM</td>\n",
              "      <td>37825830</td>\n",
              "      <td>https://www.webmotors.com.br/api/detail/car/37...</td>\n",
              "      <td>2021-07-30</td>\n",
              "    </tr>\n",
              "    <tr>\n",
              "      <th>92289</th>\n",
              "      <td>004421-0</td>\n",
              "      <td>CHEVROLET</td>\n",
              "      <td>COBALT</td>\n",
              "      <td>2019</td>\n",
              "      <td>2019</td>\n",
              "      <td>ACIMA 80 (KM)</td>\n",
              "      <td>1111111111</td>\n",
              "      <td>68900.0</td>\n",
              "      <td>PJ</td>\n",
              "      <td>1.8 MPFI LTZ 8V FLEX 4P AUTOMATICO</td>\n",
              "      <td>JATAI</td>\n",
              "      <td>GO</td>\n",
              "      <td>BR</td>\n",
              "      <td>WEBMOTORS</td>\n",
              "      <td>WEBMOTORS</td>\n",
              "      <td>CARVALHO AUTOMOVEIS</td>\n",
              "      <td>37777151</td>\n",
              "      <td>https://www.webmotors.com.br/api/detail/car/37...</td>\n",
              "      <td>2021-07-30</td>\n",
              "    </tr>\n",
              "    <tr>\n",
              "      <th>92290</th>\n",
              "      <td>005486-0</td>\n",
              "      <td>VOLKSWAGEN</td>\n",
              "      <td>VIRTUS</td>\n",
              "      <td>2019</td>\n",
              "      <td>2018</td>\n",
              "      <td>ACIMA 80 (KM)</td>\n",
              "      <td>1111111111</td>\n",
              "      <td>73900.0</td>\n",
              "      <td>PJ</td>\n",
              "      <td>1.6 MSI TOTAL FLEX MANUAL</td>\n",
              "      <td>CURITIBA</td>\n",
              "      <td>PR</td>\n",
              "      <td>BR</td>\n",
              "      <td>WEBMOTORS</td>\n",
              "      <td>WEBMOTORS</td>\n",
              "      <td>W521 PREMIUM</td>\n",
              "      <td>37825975</td>\n",
              "      <td>https://www.webmotors.com.br/api/detail/car/37...</td>\n",
              "      <td>2021-07-30</td>\n",
              "    </tr>\n",
              "  </tbody>\n",
              "</table>\n",
              "</div>"
            ],
            "text/plain": [
              "      CodigoFipe  ...       DATA\n",
              "92286   015165-3  ... 2021-07-30\n",
              "92287   001315-3  ... 2021-07-30\n",
              "92288   004421-0  ... 2021-07-30\n",
              "92289   004421-0  ... 2021-07-30\n",
              "92290   005486-0  ... 2021-07-30\n",
              "\n",
              "[5 rows x 19 columns]"
            ]
          },
          "metadata": {},
          "execution_count": 6
        }
      ]
    },
    {
      "cell_type": "markdown",
      "metadata": {
        "id": "dcuPFFkmKqyf"
      },
      "source": [
        "# Análises exploratórias iniciais\n",
        "<img alt=\"Colaboratory logo\" width=\"10%\" src=\"https://qualidadenapratica.files.wordpress.com/2012/06/analise.jpg?w=640\">\n",
        "\n",
        "**Bloco 3:** Verificação de valores ausentes para devidas considerações e tratativas. \n",
        "\n",
        "Conforme observável abaixo, apenas as colunas `CodigoFipe` e `MarketPlace` possuem pequenos percentuais de valores ausente, respectivamente 8,38% e 6,73%.\n",
        "Considerando estas colunas não sendo críticas de análises, não serão realizados quaisquer tratamentos nestas variáveis."
      ]
    },
    {
      "cell_type": "code",
      "metadata": {
        "colab": {
          "base_uri": "https://localhost:8080/"
        },
        "id": "7M0Qd4LIMlTN",
        "outputId": "fd7092ab-d15a-42c2-f8c3-f1845d625faf"
      },
      "source": [
        "#Bloco 3:\n",
        "#Acionar a função Pandas para formatação de valores\n",
        "pd.options.display.float_format = \"{:.2f}\".format\n",
        "\n",
        "#Verificação da porcentagem de valores ausentes (ordenação decrescente)\n",
        "print(\"Variável \\t Percentual Ausente \\n\")\n",
        "(df.isnull().sum() / df.shape[0] *100).sort_values(ascending = False)"
      ],
      "execution_count": null,
      "outputs": [
        {
          "output_type": "stream",
          "name": "stdout",
          "text": [
            "Variável \t Percentual Ausente \n",
            "\n"
          ]
        },
        {
          "output_type": "execute_result",
          "data": {
            "text/plain": [
              "CodigoFipe            8.38\n",
              "MarketPlace           6.73\n",
              "TipoAnuncio           0.00\n",
              "Marca                 0.00\n",
              "Modelo                0.00\n",
              "AnoModelo             0.00\n",
              "AnoFabricacao         0.00\n",
              "RegraKM               0.00\n",
              "Quilometragem         0.00\n",
              "PrecoAnuncio          0.00\n",
              "DATA                  0.00\n",
              "LinkAnuncio           0.00\n",
              "Cidade                0.00\n",
              "Estado                0.00\n",
              "Pais                  0.00\n",
              "Vendedor              0.00\n",
              "vendedorMarketplace   0.00\n",
              "IdAnuncio             0.00\n",
              "DescricaoSite         0.00\n",
              "dtype: float64"
            ]
          },
          "metadata": {},
          "execution_count": 7
        }
      ]
    },
    {
      "cell_type": "markdown",
      "metadata": {
        "id": "-aphKym0Lpar"
      },
      "source": [
        "# Análises exploratórias iniciais\n",
        "<img alt=\"Colaboratory logo\" width=\"10%\" src=\"https://qualidadenapratica.files.wordpress.com/2012/06/analise.jpg?w=640\">\n",
        "\n",
        "**Bloco 4:** Verificação estatística básica das variáveis quantitativas que serão fortemente consideradas em todo processo de análise sequencial. \n",
        "\n",
        "Conforme observável abaixo, as colunas `Quilometragem` e `PrecoAnuncio` possuem desvio padrão muito altos que representam indícios de outliers (valores discrepantes), que podem ser melhor observados pelos valores máximos descritos em comparação ao valor de terceiro quartil (75%).\n",
        "\n",
        "Logo abaixo são plotados histogramas para estas mesmas variáveis quantitativas que colaboram com uma visão gráfica para um melhor estudo.\n",
        "\n",
        "\n",
        "**Entendo um pouco sobre a tabela estatística básica abaixo:**\n",
        "* `Count:` contador do número de ocorrências (registros/linhas)\n",
        "* `Mean:` valor médio encontrado\n",
        "* `std:` desvio padrão relativo à média\n",
        "* `min:` menor valor encontrado\n",
        "* `25%:` primeiro quartil ou quartil inferior; valor aos 25% da amostra ordenada. \n",
        "* `50%:` segundo quartil (mediana); valor até ao qual se encontra 50% da amostra ordenada\n",
        "* `75%:` terceiro quartil ou quartil superior; valor a partir do qual se encontram 25% dos valores mais elevados \n",
        "* `max:` maior valor encontrado\n",
        "\n",
        "Obs.: à diferença entre os quartis superior e inferior chama-se amplitude inter-quartil (IQR).\n"
      ]
    },
    {
      "cell_type": "code",
      "metadata": {
        "colab": {
          "base_uri": "https://localhost:8080/",
          "height": 297
        },
        "id": "khdLZaQ-l2I0",
        "outputId": "39c9749e-283c-4119-d308-42fcaf97b175"
      },
      "source": [
        "##Bloco 4: verificação estatística básica para variáveis quantitativas do DataFrame\n",
        "df.describe()"
      ],
      "execution_count": null,
      "outputs": [
        {
          "output_type": "execute_result",
          "data": {
            "text/html": [
              "<div>\n",
              "<style scoped>\n",
              "    .dataframe tbody tr th:only-of-type {\n",
              "        vertical-align: middle;\n",
              "    }\n",
              "\n",
              "    .dataframe tbody tr th {\n",
              "        vertical-align: top;\n",
              "    }\n",
              "\n",
              "    .dataframe thead th {\n",
              "        text-align: right;\n",
              "    }\n",
              "</style>\n",
              "<table border=\"1\" class=\"dataframe\">\n",
              "  <thead>\n",
              "    <tr style=\"text-align: right;\">\n",
              "      <th></th>\n",
              "      <th>AnoModelo</th>\n",
              "      <th>AnoFabricacao</th>\n",
              "      <th>Quilometragem</th>\n",
              "      <th>PrecoAnuncio</th>\n",
              "      <th>IdAnuncio</th>\n",
              "    </tr>\n",
              "  </thead>\n",
              "  <tbody>\n",
              "    <tr>\n",
              "      <th>count</th>\n",
              "      <td>92291.00</td>\n",
              "      <td>92291.00</td>\n",
              "      <td>92291.00</td>\n",
              "      <td>92291.00</td>\n",
              "      <td>92291.00</td>\n",
              "    </tr>\n",
              "    <tr>\n",
              "      <th>mean</th>\n",
              "      <td>2019.09</td>\n",
              "      <td>2018.46</td>\n",
              "      <td>222635.97</td>\n",
              "      <td>133748.01</td>\n",
              "      <td>34829341.24</td>\n",
              "    </tr>\n",
              "    <tr>\n",
              "      <th>std</th>\n",
              "      <td>1.53</td>\n",
              "      <td>1.56</td>\n",
              "      <td>13696449.47</td>\n",
              "      <td>6507544.63</td>\n",
              "      <td>9374588.20</td>\n",
              "    </tr>\n",
              "    <tr>\n",
              "      <th>min</th>\n",
              "      <td>2013.00</td>\n",
              "      <td>2012.00</td>\n",
              "      <td>0.00</td>\n",
              "      <td>16900.00</td>\n",
              "      <td>21436.00</td>\n",
              "    </tr>\n",
              "    <tr>\n",
              "      <th>25%</th>\n",
              "      <td>2018.00</td>\n",
              "      <td>2018.00</td>\n",
              "      <td>26500.00</td>\n",
              "      <td>51900.00</td>\n",
              "      <td>37066942.50</td>\n",
              "    </tr>\n",
              "    <tr>\n",
              "      <th>50%</th>\n",
              "      <td>2019.00</td>\n",
              "      <td>2019.00</td>\n",
              "      <td>45000.00</td>\n",
              "      <td>66990.00</td>\n",
              "      <td>37571980.00</td>\n",
              "    </tr>\n",
              "    <tr>\n",
              "      <th>75%</th>\n",
              "      <td>2020.00</td>\n",
              "      <td>2019.00</td>\n",
              "      <td>59131.50</td>\n",
              "      <td>95900.00</td>\n",
              "      <td>37782074.00</td>\n",
              "    </tr>\n",
              "    <tr>\n",
              "      <th>max</th>\n",
              "      <td>2022.00</td>\n",
              "      <td>2022.00</td>\n",
              "      <td>1111111111.00</td>\n",
              "      <td>1111111168.00</td>\n",
              "      <td>37901424.00</td>\n",
              "    </tr>\n",
              "  </tbody>\n",
              "</table>\n",
              "</div>"
            ],
            "text/plain": [
              "       AnoModelo  AnoFabricacao  Quilometragem  PrecoAnuncio   IdAnuncio\n",
              "count   92291.00       92291.00       92291.00      92291.00    92291.00\n",
              "mean     2019.09        2018.46      222635.97     133748.01 34829341.24\n",
              "std         1.53           1.56    13696449.47    6507544.63  9374588.20\n",
              "min      2013.00        2012.00           0.00      16900.00    21436.00\n",
              "25%      2018.00        2018.00       26500.00      51900.00 37066942.50\n",
              "50%      2019.00        2019.00       45000.00      66990.00 37571980.00\n",
              "75%      2020.00        2019.00       59131.50      95900.00 37782074.00\n",
              "max      2022.00        2022.00  1111111111.00 1111111168.00 37901424.00"
            ]
          },
          "metadata": {},
          "execution_count": 8
        }
      ]
    },
    {
      "cell_type": "code",
      "metadata": {
        "colab": {
          "base_uri": "https://localhost:8080/",
          "height": 621
        },
        "id": "zBm1zRN8PqJm",
        "outputId": "fc219bf5-47a4-4b03-a300-cb3a51ef54da"
      },
      "source": [
        "##Bloco 4: Plotagem de histgramas para variáveis quantitativas do DataFrame\n",
        "df.hist(figsize=(20,10), grid = False);"
      ],
      "execution_count": null,
      "outputs": [
        {
          "output_type": "display_data",
          "data": {
            "image/png": "[encoded data removed]",
            "text/plain": [
              "<Figure size 1440x720 with 6 Axes>"
            ]
          },
          "metadata": {
            "needs_background": "light"
          }
        }
      ]
    },
    {
      "cell_type": "markdown",
      "metadata": {
        "id": "mwHM6i6mNSmC"
      },
      "source": [
        "# Análises exploratórias iniciais\n",
        "<img alt=\"Colaboratory logo\" width=\"10%\" src=\"https://qualidadenapratica.files.wordpress.com/2012/06/analise.jpg?w=640\">\n",
        "\n",
        "**Bloco 5** Preparação e plotagem de gráfico tipo boxplot ou diagrama de caixa que permite visualizar a distribuição e valores discrepantes (outliers) dos dados.\n",
        "\n",
        "Para as variáveis `PrecoAnuncio` e `Quilometragem`, serão obtidos os quartis e a variação interquartil (IQR) que contribuirá para a avaliação do grau de dispersão (espalhamento dos dados) em torno das medidas centrais.\n",
        "\n",
        "Em seguida serão plotados os respectivos gráficos boxplot que possibilitarão uma visão destas distribuições de valores para as variáveis em estudo.\n",
        "\n",
        "Através das análises das plotagens, pode-se identificar que para o volume de dados total (92.291), respectivamente, para as variáveis `PrecoAnuncio` e `Quilometragem`, 5.01% (4.622) e 3.68% (3.399) dos valores encontrados no arquivo de dados são **outliers**.\n",
        "\n",
        "Tendo isto sendo identificado, a boa prática de analise exploratória orienta a serem buscados identificar as causas destas discrepâncias com execução das devidas ações para evitar que dados valiosos se percam no processo.\n",
        "\n",
        "`No âmbito deste trabalho`, por considerar ser o volume de dados abaixo de 10%, inclusive podendo haver outliers simultâneos para um mesmo registro, os registros correspondentes destes ouliers serão excluídos para não impactar negatvamente nas considerações de análise."
      ]
    },
    {
      "cell_type": "code",
      "metadata": {
        "colab": {
          "base_uri": "https://localhost:8080/"
        },
        "id": "jB1wDUe3YagG",
        "outputId": "4c167345-af86-4a6e-ec36-b633a574af6e"
      },
      "source": [
        "#Bloco 5:\n",
        "# obtenção dos quartis e IQR para a variável PrecoAnuncio\n",
        "q1_PrecoAnuncio = df.PrecoAnuncio.quantile(.25)\n",
        "q3_PrecoAnuncio = df.PrecoAnuncio.quantile(.75)\n",
        "IQR_PrecoAnuncio = q3_PrecoAnuncio - q1_PrecoAnuncio\n",
        "\n",
        "# definindo os limites SUPERIOR e INFERIOR                                    \n",
        "sup_PrecoAnuncio = q3_PrecoAnuncio + 1.5 * IQR_PrecoAnuncio\n",
        "inf_PrecoAnuncio = q1_PrecoAnuncio - 1.5 * IQR_PrecoAnuncio\n",
        "\n",
        "# Mostrando em tela os valores encontrados \n",
        "print('IQR da variável PrecoAnuncio: ', IQR_PrecoAnuncio)\n",
        "print('Limite superior de PrecoAnuncio: ', sup_PrecoAnuncio)\n",
        "print('Limite inferior de PrecoAnuncio: ', inf_PrecoAnuncio)"
      ],
      "execution_count": null,
      "outputs": [
        {
          "output_type": "stream",
          "name": "stdout",
          "text": [
            "IQR da variável PrecoAnuncio:  44000.0\n",
            "Limite superior de PrecoAnuncio:  161900.0\n",
            "Limite inferior de PrecoAnuncio:  -14100.0\n"
          ]
        }
      ]
    },
    {
      "cell_type": "code",
      "metadata": {
        "colab": {
          "base_uri": "https://localhost:8080/"
        },
        "id": "5qD3jpnEJNeK",
        "outputId": "1c9be5cb-22d8-4d3a-de9d-c7b88e48c73f"
      },
      "source": [
        "#Bloco 5:\n",
        "# obtenção dos quartis e IQR para a variável Quilometragem\t\n",
        "q1_Quilometragem\t = df.Quilometragem\t.quantile(.25)\n",
        "q3_Quilometragem\t = df.Quilometragem\t.quantile(.75)\n",
        "IQR_Quilometragem\t = q3_Quilometragem\t - q1_Quilometragem\t\n",
        "\n",
        "# definindo os limites SUPERIOR e INFERIOR                                       \n",
        "sup_Quilometragem\t = q3_Quilometragem\t + 1.5 * IQR_Quilometragem\t\n",
        "inf_Quilometragem\t = q1_Quilometragem\t - 1.5 * IQR_Quilometragem\t\n",
        "\n",
        "# Mostrando em tela os valores encontrados\n",
        "print('IQR da variável Quilometragem\t: ', IQR_Quilometragem\t)\n",
        "print('Limite superior de Quilometragem\t: ', sup_Quilometragem\t)\n",
        "print('Limite inferior de Quilometragem\t: ', inf_Quilometragem)"
      ],
      "execution_count": null,
      "outputs": [
        {
          "output_type": "stream",
          "name": "stdout",
          "text": [
            "IQR da variável Quilometragem\t:  32631.5\n",
            "Limite superior de Quilometragem\t:  108078.75\n",
            "Limite inferior de Quilometragem\t:  -22447.25\n"
          ]
        }
      ]
    },
    {
      "cell_type": "code",
      "metadata": {
        "colab": {
          "base_uri": "https://localhost:8080/",
          "height": 565
        },
        "id": "5zIgYJko9wyf",
        "outputId": "ea04534d-c463-402c-c682-46dcafc07e98"
      },
      "source": [
        "#Bloco 5:\n",
        "# Plotagem do Boxplot para a variável PrecoAnuncio\n",
        "fig, ax = plt.subplots(figsize=(15,3))\n",
        "df.PrecoAnuncio.plot(kind='box', vert=False);\n",
        "ax.set_title('Dataset Original - PrecoAnuncio')\n",
        "plt.show()\n",
        "\n",
        "print(\"O dataset original  possui {} colunas\".format(df.shape[0]))\n",
        "print(\"{} Entradas são outliers, ou seja, estão acima do limite superior que é 161.900\".format(len(df[df.PrecoAnuncio > sup_PrecoAnuncio])))\n",
        "print(\"Representando {:.2f}% do total do dataset\".format((len(df[df.PrecoAnuncio > sup_PrecoAnuncio]) / df.shape[0])*100))\n",
        "\n",
        "\n",
        "# Plotagem do Boxplot para a variável Quilometragem\n",
        "fig, ax = plt.subplots(figsize=(15,3))\n",
        "df.Quilometragem.plot(kind='box', vert=False);\n",
        "ax.set_title('Dataset Original - Quilometragem')\n",
        "plt.show()\n",
        "\n",
        "print(\"O dataset original  possui {} colunas\".format(df.shape[0]))\n",
        "print(\"{} Entradas são outliers, ou seja, estão acima do limite superior que é 108078.75\".format(len(df[df.Quilometragem > sup_Quilometragem])))\n",
        "print(\"Representando {:.2f}% do total do dataset\".format((len(df[df.Quilometragem > sup_Quilometragem]) / df.shape[0])*100))"
      ],
      "execution_count": null,
      "outputs": [
        {
          "output_type": "display_data",
          "data": {
            "image/png": "[encoded data removed]",
            "text/plain": [
              "<Figure size 1080x216 with 1 Axes>"
            ]
          },
          "metadata": {
            "needs_background": "light"
          }
        },
        {
          "output_type": "stream",
          "name": "stdout",
          "text": [
            "O dataset original  possui 92291 colunas\n",
            "4622 Entradas são outliers, ou seja, estão acima do limite superior que é 161.900\n",
            "Representando 5.01% do total do dataset\n"
          ]
        },
        {
          "output_type": "display_data",
          "data": {
            "image/png": "[encoded data removed]",
            "text/plain": [
              "<Figure size 1080x216 with 1 Axes>"
            ]
          },
          "metadata": {
            "needs_background": "light"
          }
        },
        {
          "output_type": "stream",
          "name": "stdout",
          "text": [
            "O dataset original  possui 92291 colunas\n",
            "3399 Entradas são outliers, ou seja, estão acima do limite superior que é 108078.75\n",
            "Representando 3.68% do total do dataset\n"
          ]
        }
      ]
    },
    {
      "cell_type": "markdown",
      "metadata": {
        "id": "rN7untw1iPB7"
      },
      "source": [
        "--------\n",
        "# Análises exploratórias pós limpeza de dados discrepantes (outliers)\n",
        "<img alt=\"Colaboratory logo\" width=\"10%\" src=\"https://encrypted-tbn0.gstatic.com/images?q=tbn:ANd9GcRSLvRaTnknXLoiacc_nrdSFJ0x-iMHqlwFSADRLopiiOBGt4whGQ62ofhFCWjrSmvn2bo&usqp=CAU\">\n",
        "\n",
        "**Bloco 1** Neste bloco, será criado um novo dataset onde constarão os registros `\"limpos\"` dos outliers identificados anteiormente.\n",
        "\n",
        "Após a criação do novo dataset, o anterior original permanace intacto, serão revisitadas as análises por tabela de estatísticas básicas, histogramas e boxplot para reanálises destes dados limpos.\n",
        "\n",
        "importante ter em mente que novos valores estatíticos foram criados considerando a massa de dados atual (`dados limpos`), ou seja, novos outliers surgiram, porém não mais nos interessa pois já são fruto do trabalho inicial, porém interessante perceber que estes novos outliers estão no limite da análise anterior o que é o esperado.\n"
      ]
    },
    {
      "cell_type": "code",
      "metadata": {
        "id": "OrOvC8bTCcmf"
      },
      "source": [
        "#Bloco 1:\n",
        "# criando uma cópia da base de dados\n",
        "df_limpo = df.copy()\n",
        "\n",
        "# limpando na nova base de dados os outliers para Quilometragem e PrecoAnuncio\n",
        "df_limpo.drop(df_limpo[df_limpo.PrecoAnuncio > sup_PrecoAnuncio].index, axis=0, inplace=True)\n",
        "df_limpo.drop(df_limpo[df_limpo.Quilometragem > sup_Quilometragem].index,  axis=0, inplace= True)"
      ],
      "execution_count": null,
      "outputs": []
    },
    {
      "cell_type": "code",
      "metadata": {
        "colab": {
          "base_uri": "https://localhost:8080/"
        },
        "id": "pZ6kKe3SDimI",
        "outputId": "a353aeb2-751f-4733-abf2-e4fd879fd4ce"
      },
      "source": [
        "#Bloco 1: Comparando as bases de dados: original (\"suja\") com atual (\"limpa)\n",
        "print('Formato antes da limpeza: ', df.shape)\n",
        "print('Formato após a limpeza: ',df_limpo.shape)\n",
        "print('Número de registros excluídos = ',df.shape[0]-df_limpo.shape[0])\n",
        "print('Percentual de registros excluídos = {:.2f}%'.format((df.shape[0]-df_limpo.shape[0]) / df.shape[0] * 100))"
      ],
      "execution_count": null,
      "outputs": [
        {
          "output_type": "stream",
          "name": "stdout",
          "text": [
            "Formato antes da limpeza:  (92291, 19)\n",
            "Formato após a limpeza:  (84351, 19)\n",
            "Número de registros excluídos =  7940\n",
            "Percentual de registros excluídos = 8.60%\n"
          ]
        }
      ]
    },
    {
      "cell_type": "code",
      "metadata": {
        "colab": {
          "base_uri": "https://localhost:8080/",
          "height": 297
        },
        "id": "Q7jFY-5OGc1P",
        "outputId": "b3025aec-6674-4f23-8ff1-74608af32697"
      },
      "source": [
        "##Bloco 1: verificação estatística básica para variáveis quantitativas do novo DataFrame (limpo)\n",
        "df_limpo.describe()"
      ],
      "execution_count": null,
      "outputs": [
        {
          "output_type": "execute_result",
          "data": {
            "text/html": [
              "<div>\n",
              "<style scoped>\n",
              "    .dataframe tbody tr th:only-of-type {\n",
              "        vertical-align: middle;\n",
              "    }\n",
              "\n",
              "    .dataframe tbody tr th {\n",
              "        vertical-align: top;\n",
              "    }\n",
              "\n",
              "    .dataframe thead th {\n",
              "        text-align: right;\n",
              "    }\n",
              "</style>\n",
              "<table border=\"1\" class=\"dataframe\">\n",
              "  <thead>\n",
              "    <tr style=\"text-align: right;\">\n",
              "      <th></th>\n",
              "      <th>AnoModelo</th>\n",
              "      <th>AnoFabricacao</th>\n",
              "      <th>Quilometragem</th>\n",
              "      <th>PrecoAnuncio</th>\n",
              "      <th>IdAnuncio</th>\n",
              "    </tr>\n",
              "  </thead>\n",
              "  <tbody>\n",
              "    <tr>\n",
              "      <th>count</th>\n",
              "      <td>84351.00</td>\n",
              "      <td>84351.00</td>\n",
              "      <td>84351.00</td>\n",
              "      <td>84351.00</td>\n",
              "      <td>84351.00</td>\n",
              "    </tr>\n",
              "    <tr>\n",
              "      <th>mean</th>\n",
              "      <td>2019.16</td>\n",
              "      <td>2018.53</td>\n",
              "      <td>43203.40</td>\n",
              "      <td>74658.37</td>\n",
              "      <td>34750648.78</td>\n",
              "    </tr>\n",
              "    <tr>\n",
              "      <th>std</th>\n",
              "      <td>1.45</td>\n",
              "      <td>1.47</td>\n",
              "      <td>24208.37</td>\n",
              "      <td>28988.57</td>\n",
              "      <td>9515861.08</td>\n",
              "    </tr>\n",
              "    <tr>\n",
              "      <th>min</th>\n",
              "      <td>2013.00</td>\n",
              "      <td>2012.00</td>\n",
              "      <td>0.00</td>\n",
              "      <td>17900.00</td>\n",
              "      <td>21436.00</td>\n",
              "    </tr>\n",
              "    <tr>\n",
              "      <th>25%</th>\n",
              "      <td>2018.00</td>\n",
              "      <td>2018.00</td>\n",
              "      <td>27000.00</td>\n",
              "      <td>51900.00</td>\n",
              "      <td>37063907.50</td>\n",
              "    </tr>\n",
              "    <tr>\n",
              "      <th>50%</th>\n",
              "      <td>2019.00</td>\n",
              "      <td>2019.00</td>\n",
              "      <td>44800.00</td>\n",
              "      <td>65390.00</td>\n",
              "      <td>37572188.00</td>\n",
              "    </tr>\n",
              "    <tr>\n",
              "      <th>75%</th>\n",
              "      <td>2020.00</td>\n",
              "      <td>2019.00</td>\n",
              "      <td>57465.00</td>\n",
              "      <td>91990.00</td>\n",
              "      <td>37782871.00</td>\n",
              "    </tr>\n",
              "    <tr>\n",
              "      <th>max</th>\n",
              "      <td>2022.00</td>\n",
              "      <td>2022.00</td>\n",
              "      <td>108065.00</td>\n",
              "      <td>161900.00</td>\n",
              "      <td>37901424.00</td>\n",
              "    </tr>\n",
              "  </tbody>\n",
              "</table>\n",
              "</div>"
            ],
            "text/plain": [
              "       AnoModelo  AnoFabricacao  Quilometragem  PrecoAnuncio   IdAnuncio\n",
              "count   84351.00       84351.00       84351.00      84351.00    84351.00\n",
              "mean     2019.16        2018.53       43203.40      74658.37 34750648.78\n",
              "std         1.45           1.47       24208.37      28988.57  9515861.08\n",
              "min      2013.00        2012.00           0.00      17900.00    21436.00\n",
              "25%      2018.00        2018.00       27000.00      51900.00 37063907.50\n",
              "50%      2019.00        2019.00       44800.00      65390.00 37572188.00\n",
              "75%      2020.00        2019.00       57465.00      91990.00 37782871.00\n",
              "max      2022.00        2022.00      108065.00     161900.00 37901424.00"
            ]
          },
          "metadata": {},
          "execution_count": 21
        }
      ]
    },
    {
      "cell_type": "code",
      "metadata": {
        "colab": {
          "base_uri": "https://localhost:8080/",
          "height": 437
        },
        "id": "leFSLIQSEQTS",
        "outputId": "955bbda4-4300-4f33-f7ef-0c886af8e8d3"
      },
      "source": [
        "#Bloco 1: plotagem dos Boxplot para o conjunto de dados limpos (sem outliers)\n",
        "fig, ax = plt.subplots(figsize=(15,3))\n",
        "df_limpo.PrecoAnuncio.plot(kind='box', vert=False);\n",
        "ax.set_title('Dataset Limpo - PrecoAnuncio')\n",
        "plt.show()\n",
        "\n",
        "fig, ax = plt.subplots(figsize=(15,3))\n",
        "df_limpo.Quilometragem.plot(kind='box', vert=False);\n",
        "ax.set_title('Dataset Limpo - Quilometragem')\n",
        "plt.show()\n"
      ],
      "execution_count": null,
      "outputs": [
        {
          "output_type": "display_data",
          "data": {
            "image/png": "[encoded data removed]",
            "text/plain": [
              "<Figure size 1080x216 with 1 Axes>"
            ]
          },
          "metadata": {
            "needs_background": "light"
          }
        },
        {
          "output_type": "display_data",
          "data": {
            "image/png": "[encoded data removed]",
            "text/plain": [
              "<Figure size 1080x216 with 1 Axes>"
            ]
          },
          "metadata": {
            "needs_background": "light"
          }
        }
      ]
    },
    {
      "cell_type": "code",
      "metadata": {
        "colab": {
          "base_uri": "https://localhost:8080/",
          "height": 621
        },
        "id": "_H2XoBpSG_pN",
        "outputId": "e5980187-3d8f-4309-966f-55ba26591213"
      },
      "source": [
        "#Bloco 1: verificando as novas distribuições pós limpeza\n",
        "df_limpo.hist(figsize=(20,10), grid = False);"
      ],
      "execution_count": null,
      "outputs": [
        {
          "output_type": "display_data",
          "data": {
            "image/png": "[encoded data removed]",
            "text/plain": [
              "<Figure size 1440x720 with 6 Axes>"
            ]
          },
          "metadata": {
            "needs_background": "light"
          }
        }
      ]
    },
    {
      "cell_type": "code",
      "metadata": {
        "colab": {
          "base_uri": "https://localhost:8080/",
          "height": 496
        },
        "id": "a0GeN6hVM2KD",
        "outputId": "146db840-d5a5-4bb7-f4ab-82c450399067"
      },
      "source": [
        "#Bloco 1: verificando os 5 registros iniciais \n",
        "df_limpo.head()"
      ],
      "execution_count": null,
      "outputs": [
        {
          "output_type": "execute_result",
          "data": {
            "text/html": [
              "<div>\n",
              "<style scoped>\n",
              "    .dataframe tbody tr th:only-of-type {\n",
              "        vertical-align: middle;\n",
              "    }\n",
              "\n",
              "    .dataframe tbody tr th {\n",
              "        vertical-align: top;\n",
              "    }\n",
              "\n",
              "    .dataframe thead th {\n",
              "        text-align: right;\n",
              "    }\n",
              "</style>\n",
              "<table border=\"1\" class=\"dataframe\">\n",
              "  <thead>\n",
              "    <tr style=\"text-align: right;\">\n",
              "      <th></th>\n",
              "      <th>CodigoFipe</th>\n",
              "      <th>Marca</th>\n",
              "      <th>Modelo</th>\n",
              "      <th>AnoModelo</th>\n",
              "      <th>AnoFabricacao</th>\n",
              "      <th>RegraKM</th>\n",
              "      <th>Quilometragem</th>\n",
              "      <th>PrecoAnuncio</th>\n",
              "      <th>TipoAnuncio</th>\n",
              "      <th>DescricaoSite</th>\n",
              "      <th>Cidade</th>\n",
              "      <th>Estado</th>\n",
              "      <th>Pais</th>\n",
              "      <th>MarketPlace</th>\n",
              "      <th>Vendedor</th>\n",
              "      <th>vendedorMarketplace</th>\n",
              "      <th>IdAnuncio</th>\n",
              "      <th>LinkAnuncio</th>\n",
              "      <th>DATA</th>\n",
              "    </tr>\n",
              "  </thead>\n",
              "  <tbody>\n",
              "    <tr>\n",
              "      <th>1</th>\n",
              "      <td>NaN</td>\n",
              "      <td>FORD</td>\n",
              "      <td>ECOSPORT</td>\n",
              "      <td>2020</td>\n",
              "      <td>2019</td>\n",
              "      <td>ATÉ 15 (KM)</td>\n",
              "      <td>5940</td>\n",
              "      <td>81450.00</td>\n",
              "      <td>PJ</td>\n",
              "      <td>ECOSPORT SE 1.5 12V FLEX 4P C/AR - AUTOMATICO</td>\n",
              "      <td>SAO PAULO</td>\n",
              "      <td>SP</td>\n",
              "      <td>BR</td>\n",
              "      <td>NaN</td>\n",
              "      <td>LOCALIZA</td>\n",
              "      <td>Localiza</td>\n",
              "      <td>110397</td>\n",
              "      <td>https://seminovos.localiza.com/ford_ecosport_s...</td>\n",
              "      <td>2021-07-30</td>\n",
              "    </tr>\n",
              "    <tr>\n",
              "      <th>2</th>\n",
              "      <td>NaN</td>\n",
              "      <td>FORD</td>\n",
              "      <td>ECOSPORT</td>\n",
              "      <td>2020</td>\n",
              "      <td>2019</td>\n",
              "      <td>ATÉ 15 (KM)</td>\n",
              "      <td>6830</td>\n",
              "      <td>81070.00</td>\n",
              "      <td>PJ</td>\n",
              "      <td>ECOSPORT SE 1.5 12V FLEX 4P C/AR - AUTOMATICO</td>\n",
              "      <td>OSASCO</td>\n",
              "      <td>SP</td>\n",
              "      <td>BR</td>\n",
              "      <td>NaN</td>\n",
              "      <td>LOCALIZA</td>\n",
              "      <td>Localiza</td>\n",
              "      <td>108256</td>\n",
              "      <td>https://seminovos.localiza.com/ford_ecosport_s...</td>\n",
              "      <td>2021-07-30</td>\n",
              "    </tr>\n",
              "    <tr>\n",
              "      <th>4</th>\n",
              "      <td>NaN</td>\n",
              "      <td>JEEP</td>\n",
              "      <td>RENEGADE</td>\n",
              "      <td>2019</td>\n",
              "      <td>2019</td>\n",
              "      <td>ATÉ 15 (KM)</td>\n",
              "      <td>7496</td>\n",
              "      <td>94060.00</td>\n",
              "      <td>PJ</td>\n",
              "      <td>RENEGADE LONGITUDE 1.8 16V FLEX 4P C/AR - AUTO...</td>\n",
              "      <td>NITEROI</td>\n",
              "      <td>RJ</td>\n",
              "      <td>BR</td>\n",
              "      <td>NaN</td>\n",
              "      <td>LOCALIZA</td>\n",
              "      <td>Localiza</td>\n",
              "      <td>110387</td>\n",
              "      <td>https://seminovos.localiza.com/jeep_renegade_l...</td>\n",
              "      <td>2021-07-30</td>\n",
              "    </tr>\n",
              "    <tr>\n",
              "      <th>5</th>\n",
              "      <td>NaN</td>\n",
              "      <td>FORD</td>\n",
              "      <td>ECOSPORT</td>\n",
              "      <td>2020</td>\n",
              "      <td>2019</td>\n",
              "      <td>ATÉ 15 (KM)</td>\n",
              "      <td>7991</td>\n",
              "      <td>81070.00</td>\n",
              "      <td>PJ</td>\n",
              "      <td>ECOSPORT SE 1.5 12V FLEX 4P C/AR - AUTOMATICO</td>\n",
              "      <td>MOGI DAS CRUZES</td>\n",
              "      <td>SP</td>\n",
              "      <td>BR</td>\n",
              "      <td>NaN</td>\n",
              "      <td>LOCALIZA</td>\n",
              "      <td>Localiza</td>\n",
              "      <td>109137</td>\n",
              "      <td>https://seminovos.localiza.com/ford_ecosport_s...</td>\n",
              "      <td>2021-07-30</td>\n",
              "    </tr>\n",
              "    <tr>\n",
              "      <th>6</th>\n",
              "      <td>NaN</td>\n",
              "      <td>FORD</td>\n",
              "      <td>ECOSPORT</td>\n",
              "      <td>2020</td>\n",
              "      <td>2019</td>\n",
              "      <td>ATÉ 15 (KM)</td>\n",
              "      <td>8583</td>\n",
              "      <td>80750.00</td>\n",
              "      <td>PJ</td>\n",
              "      <td>ECOSPORT SE 1.5 12V FLEX 4P C/AR - AUTOMATICO</td>\n",
              "      <td>SAO PAULO</td>\n",
              "      <td>SP</td>\n",
              "      <td>BR</td>\n",
              "      <td>NaN</td>\n",
              "      <td>LOCALIZA</td>\n",
              "      <td>Localiza</td>\n",
              "      <td>110078</td>\n",
              "      <td>https://seminovos.localiza.com/ford_ecosport_s...</td>\n",
              "      <td>2021-07-30</td>\n",
              "    </tr>\n",
              "  </tbody>\n",
              "</table>\n",
              "</div>"
            ],
            "text/plain": [
              "  CodigoFipe  ...       DATA\n",
              "1        NaN  ... 2021-07-30\n",
              "2        NaN  ... 2021-07-30\n",
              "4        NaN  ... 2021-07-30\n",
              "5        NaN  ... 2021-07-30\n",
              "6        NaN  ... 2021-07-30\n",
              "\n",
              "[5 rows x 19 columns]"
            ]
          },
          "metadata": {},
          "execution_count": 24
        }
      ]
    },
    {
      "cell_type": "code",
      "metadata": {
        "colab": {
          "base_uri": "https://localhost:8080/",
          "height": 445
        },
        "id": "WppEmeET1WQx",
        "outputId": "0d712842-9623-4136-8f97-9ef459e75419"
      },
      "source": [
        "#Bloco 1: verificando os 5 registros finais\n",
        "df_limpo.tail()"
      ],
      "execution_count": null,
      "outputs": [
        {
          "output_type": "execute_result",
          "data": {
            "text/html": [
              "<div>\n",
              "<style scoped>\n",
              "    .dataframe tbody tr th:only-of-type {\n",
              "        vertical-align: middle;\n",
              "    }\n",
              "\n",
              "    .dataframe tbody tr th {\n",
              "        vertical-align: top;\n",
              "    }\n",
              "\n",
              "    .dataframe thead th {\n",
              "        text-align: right;\n",
              "    }\n",
              "</style>\n",
              "<table border=\"1\" class=\"dataframe\">\n",
              "  <thead>\n",
              "    <tr style=\"text-align: right;\">\n",
              "      <th></th>\n",
              "      <th>CodigoFipe</th>\n",
              "      <th>Marca</th>\n",
              "      <th>Modelo</th>\n",
              "      <th>AnoModelo</th>\n",
              "      <th>AnoFabricacao</th>\n",
              "      <th>RegraKM</th>\n",
              "      <th>Quilometragem</th>\n",
              "      <th>PrecoAnuncio</th>\n",
              "      <th>TipoAnuncio</th>\n",
              "      <th>DescricaoSite</th>\n",
              "      <th>Cidade</th>\n",
              "      <th>Estado</th>\n",
              "      <th>Pais</th>\n",
              "      <th>MarketPlace</th>\n",
              "      <th>Vendedor</th>\n",
              "      <th>vendedorMarketplace</th>\n",
              "      <th>IdAnuncio</th>\n",
              "      <th>LinkAnuncio</th>\n",
              "      <th>DATA</th>\n",
              "    </tr>\n",
              "  </thead>\n",
              "  <tbody>\n",
              "    <tr>\n",
              "      <th>88902</th>\n",
              "      <td>017051-8</td>\n",
              "      <td>JEEP</td>\n",
              "      <td>COMPASS</td>\n",
              "      <td>2018</td>\n",
              "      <td>2018</td>\n",
              "      <td>ACIMA 80 (KM)</td>\n",
              "      <td>108000</td>\n",
              "      <td>146000.00</td>\n",
              "      <td>PF</td>\n",
              "      <td>2.0 16V DIESEL LIMITED 4X4 AUTOMATICO</td>\n",
              "      <td>VARGINHA</td>\n",
              "      <td>MG</td>\n",
              "      <td>BR</td>\n",
              "      <td>WEBMOTORS</td>\n",
              "      <td>WEBMOTORS</td>\n",
              "      <td>ANDRE</td>\n",
              "      <td>36820990</td>\n",
              "      <td>https://www.webmotors.com.br/api/detail/car/36...</td>\n",
              "      <td>2021-07-30</td>\n",
              "    </tr>\n",
              "    <tr>\n",
              "      <th>88903</th>\n",
              "      <td>002093-1</td>\n",
              "      <td>TOYOTA</td>\n",
              "      <td>HILUX</td>\n",
              "      <td>2015</td>\n",
              "      <td>2014</td>\n",
              "      <td>ACIMA 80 (KM)</td>\n",
              "      <td>108000</td>\n",
              "      <td>154900.00</td>\n",
              "      <td>PJ</td>\n",
              "      <td>3.0 SRV 4X4 CD 16V TURBO INTERCOOLER DIESEL 4P...</td>\n",
              "      <td>TEOFILO OTONI</td>\n",
              "      <td>MG</td>\n",
              "      <td>BR</td>\n",
              "      <td>WEBMOTORS</td>\n",
              "      <td>WEBMOTORS</td>\n",
              "      <td>LEOZAO AUTOMOVEIS</td>\n",
              "      <td>36751838</td>\n",
              "      <td>https://www.webmotors.com.br/api/detail/car/36...</td>\n",
              "      <td>2021-07-30</td>\n",
              "    </tr>\n",
              "    <tr>\n",
              "      <th>88905</th>\n",
              "      <td>003408-8</td>\n",
              "      <td>FORD</td>\n",
              "      <td>KA</td>\n",
              "      <td>2018</td>\n",
              "      <td>2017</td>\n",
              "      <td>ACIMA 80 (KM)</td>\n",
              "      <td>108005</td>\n",
              "      <td>39900.00</td>\n",
              "      <td>PJ</td>\n",
              "      <td>1.0 TI-VCT FLEX SE MANUAL</td>\n",
              "      <td>SAO PAULO</td>\n",
              "      <td>SP</td>\n",
              "      <td>BR</td>\n",
              "      <td>WEBMOTORS</td>\n",
              "      <td>WEBMOTORS</td>\n",
              "      <td>CARRERA NISSAN MORUMBI</td>\n",
              "      <td>37819964</td>\n",
              "      <td>https://www.webmotors.com.br/api/detail/car/37...</td>\n",
              "      <td>2021-07-30</td>\n",
              "    </tr>\n",
              "    <tr>\n",
              "      <th>88906</th>\n",
              "      <td>001461-3</td>\n",
              "      <td>FIAT</td>\n",
              "      <td>MOBI</td>\n",
              "      <td>2018</td>\n",
              "      <td>2018</td>\n",
              "      <td>ACIMA 80 (KM)</td>\n",
              "      <td>108041</td>\n",
              "      <td>40990.00</td>\n",
              "      <td>PJ</td>\n",
              "      <td>1.0 EVO FLEX LIKE. MANUAL</td>\n",
              "      <td>GUARULHOS</td>\n",
              "      <td>SP</td>\n",
              "      <td>BR</td>\n",
              "      <td>WEBMOTORS</td>\n",
              "      <td>WEBMOTORS</td>\n",
              "      <td>HORIZONCAR</td>\n",
              "      <td>37774537</td>\n",
              "      <td>https://www.webmotors.com.br/api/detail/car/37...</td>\n",
              "      <td>2021-07-30</td>\n",
              "    </tr>\n",
              "    <tr>\n",
              "      <th>88907</th>\n",
              "      <td>005338-4</td>\n",
              "      <td>VOLKSWAGEN</td>\n",
              "      <td>AMAROK</td>\n",
              "      <td>2019</td>\n",
              "      <td>2018</td>\n",
              "      <td>ACIMA 80 (KM)</td>\n",
              "      <td>108065</td>\n",
              "      <td>122000.00</td>\n",
              "      <td>PJ</td>\n",
              "      <td>2.0 S 4X4 CS 16V TURBO INTERCOOLER DIESEL 2P M...</td>\n",
              "      <td>SORRISO</td>\n",
              "      <td>MT</td>\n",
              "      <td>BR</td>\n",
              "      <td>WEBMOTORS</td>\n",
              "      <td>WEBMOTORS</td>\n",
              "      <td>AUTO MAIS VEICULOS MULTIMARCAS</td>\n",
              "      <td>36252525</td>\n",
              "      <td>https://www.webmotors.com.br/api/detail/car/36...</td>\n",
              "      <td>2021-07-30</td>\n",
              "    </tr>\n",
              "  </tbody>\n",
              "</table>\n",
              "</div>"
            ],
            "text/plain": [
              "      CodigoFipe  ...       DATA\n",
              "88902   017051-8  ... 2021-07-30\n",
              "88903   002093-1  ... 2021-07-30\n",
              "88905   003408-8  ... 2021-07-30\n",
              "88906   001461-3  ... 2021-07-30\n",
              "88907   005338-4  ... 2021-07-30\n",
              "\n",
              "[5 rows x 19 columns]"
            ]
          },
          "metadata": {},
          "execution_count": 26
        }
      ]
    },
    {
      "cell_type": "markdown",
      "metadata": {
        "id": "5WFMuVO0mMaH"
      },
      "source": [
        "-------\n",
        "# Análises críticas sob novo volume de dados\n",
        "\n",
        "<p align=\"top\"><img src=\"https://cdn.pixabay.com/photo/2015/10/19/07/38/hand-995564__340.jpg\", width=\"100%\"></p>\n",
        "\n",
        "\n",
        "A partir deste ponto as análises terão foco na busca por `insights` favoráveis ao mercado de veículos seminovos.\n",
        "\n",
        "\n"
      ]
    },
    {
      "cell_type": "markdown",
      "metadata": {
        "id": "qjkVj8_vVVGZ"
      },
      "source": [
        "**Bloco 1** neste primeiro bloco serão analisadas as correlações entre as variáveis quantitativas `AnoModelo`,\t`AnoFabricacao`, `Quilometragem` e\t`PrecoAnuncio` que são aquelas de interesse ao objetivo deste estudo. Correlação significa que existe uma relação entre duas coisas, em nosso contexto, estamos buscando relação ou semelhança entre duas variáveis.\n",
        "\n",
        "Essa relação pode ser medida, e é função do coeficiente de correlação estabelecer qual a intensidade dela. \n",
        "\n",
        "Para identificar as correlações existentes entre as variáveis de interesse serão criados:\n",
        "* uma matriz de correlação\n",
        "* um *heatmap* (mapa de calor) a partir dessa matriz de correlação\n",
        "\n",
        "Uma Matriz de Correlação mostra os valores de correlação de `Pearson`, que medem o grau de relação linear entre cada par de variáveis através de valores entre (-1 e 1) o grau de relacionamento entre 2 variáveis da seguinte forma:\n",
        "*   Quanto mais próximo de 1 significa uma correlação mais intensa.\n",
        "*   Quando possuir valores positivos significa uma correlação diretamente proporcional entre as variáveis.\n",
        "*   Quando possuir valores negativoss significa uma correlação inversamente proporcional entre as variáveis.\n",
        "\n",
        "\n",
        "\n",
        "##### **Lembrando que** \n",
        "`uma matriz de correlação é uma tabela utilizada para fornecer um entendimento prévio da coesão de relacionamento entre as variáveis, porém não significa de nenhma forma causalidade entre estas variáveis`.\n"
      ]
    },
    {
      "cell_type": "code",
      "metadata": {
        "colab": {
          "base_uri": "https://localhost:8080/",
          "height": 173
        },
        "id": "f0yGscvGzRSO",
        "outputId": "264f0843-2377-446b-fe2c-6b96720513d7"
      },
      "source": [
        "#Bloco 1: Criaçao de matriz de correlação\n",
        "correlacao = df_limpo[[\"AnoModelo\",\t\"AnoFabricacao\", \"Quilometragem\",\t\"PrecoAnuncio\" ]].corr()\n",
        "display(correlacao)"
      ],
      "execution_count": null,
      "outputs": [
        {
          "output_type": "display_data",
          "data": {
            "text/html": [
              "<div>\n",
              "<style scoped>\n",
              "    .dataframe tbody tr th:only-of-type {\n",
              "        vertical-align: middle;\n",
              "    }\n",
              "\n",
              "    .dataframe tbody tr th {\n",
              "        vertical-align: top;\n",
              "    }\n",
              "\n",
              "    .dataframe thead th {\n",
              "        text-align: right;\n",
              "    }\n",
              "</style>\n",
              "<table border=\"1\" class=\"dataframe\">\n",
              "  <thead>\n",
              "    <tr style=\"text-align: right;\">\n",
              "      <th></th>\n",
              "      <th>AnoModelo</th>\n",
              "      <th>AnoFabricacao</th>\n",
              "      <th>Quilometragem</th>\n",
              "      <th>PrecoAnuncio</th>\n",
              "    </tr>\n",
              "  </thead>\n",
              "  <tbody>\n",
              "    <tr>\n",
              "      <th>AnoModelo</th>\n",
              "      <td>1.00</td>\n",
              "      <td>0.94</td>\n",
              "      <td>-0.52</td>\n",
              "      <td>0.19</td>\n",
              "    </tr>\n",
              "    <tr>\n",
              "      <th>AnoFabricacao</th>\n",
              "      <td>0.94</td>\n",
              "      <td>1.00</td>\n",
              "      <td>-0.53</td>\n",
              "      <td>0.21</td>\n",
              "    </tr>\n",
              "    <tr>\n",
              "      <th>Quilometragem</th>\n",
              "      <td>-0.52</td>\n",
              "      <td>-0.53</td>\n",
              "      <td>1.00</td>\n",
              "      <td>-0.33</td>\n",
              "    </tr>\n",
              "    <tr>\n",
              "      <th>PrecoAnuncio</th>\n",
              "      <td>0.19</td>\n",
              "      <td>0.21</td>\n",
              "      <td>-0.33</td>\n",
              "      <td>1.00</td>\n",
              "    </tr>\n",
              "  </tbody>\n",
              "</table>\n",
              "</div>"
            ],
            "text/plain": [
              "               AnoModelo  AnoFabricacao  Quilometragem  PrecoAnuncio\n",
              "AnoModelo           1.00           0.94          -0.52          0.19\n",
              "AnoFabricacao       0.94           1.00          -0.53          0.21\n",
              "Quilometragem      -0.52          -0.53           1.00         -0.33\n",
              "PrecoAnuncio        0.19           0.21          -0.33          1.00"
            ]
          },
          "metadata": {}
        }
      ]
    },
    {
      "cell_type": "code",
      "metadata": {
        "colab": {
          "base_uri": "https://localhost:8080/",
          "height": 337
        },
        "id": "Y7wvM-eX0H2c",
        "outputId": "36f2e160-4013-4e7e-c0f9-36495516939f"
      },
      "source": [
        "#Bloco 1: Criaçao de heatmap\n",
        "sns.heatmap(data = correlacao, cmap = \"RdBu\", fmt='.2f', square = True, linecolor = \"white\", annot= True );"
      ],
      "execution_count": null,
      "outputs": [
        {
          "output_type": "display_data",
          "data": {
            "image/png": "[encoded data removed]",
            "text/plain": [
              "<Figure size 432x288 with 2 Axes>"
            ]
          },
          "metadata": {
            "needs_background": "light"
          }
        }
      ]
    },
    {
      "cell_type": "markdown",
      "metadata": {
        "id": "36YCeXafVaK-"
      },
      "source": [
        "-------------\n",
        "**Bloco 2** Construção de Tabela Dinâmica\n",
        "\n",
        "Uma tabela dinâmica é uma tabela de valores agrupados que agrega os itens individuais de uma tabela mais extensa em uma ou mais categorias discretas, podendo incluir somas, médias ou outras estatísticas, agrupadas através de uma função de agregação escolhida e aplicada aos valores agrupados.\n",
        "\n",
        "Abaixo tabela dinâmica tendo como colunas agregadoras `Estado`, `Cidade`, `Marca`, `Modelo`, `AnoModelo`, `RegraKM` e tendo `PrecoAnuncio` como coluna agregada.\n"
      ]
    },
    {
      "cell_type": "code",
      "metadata": {
        "colab": {
          "base_uri": "https://localhost:8080/",
          "height": 731
        },
        "id": "hABp1TeKWIKn",
        "outputId": "d610f31d-0c40-4cb7-f01c-a13a2b15de73"
      },
      "source": [
        "#Bloco 2: Criação de Tabela dinâmica\n",
        "table = pd.pivot_table(df_limpo, values=['PrecoAnuncio'], index=[\"Estado\", \"Cidade\", \"Marca\", \"Modelo\", \"AnoModelo\", \"RegraKM\"],\n",
        "                       aggfunc={'PrecoAnuncio': [np.mean, np.median, min, max, sum, np.count_nonzero]})\n",
        "table.sort_values(by=('PrecoAnuncio', 'sum'), ascending=False) [:20]"
      ],
      "execution_count": null,
      "outputs": [
        {
          "output_type": "execute_result",
          "data": {
            "text/html": [
              "<div>\n",
              "<style scoped>\n",
              "    .dataframe tbody tr th:only-of-type {\n",
              "        vertical-align: middle;\n",
              "    }\n",
              "\n",
              "    .dataframe tbody tr th {\n",
              "        vertical-align: top;\n",
              "    }\n",
              "\n",
              "    .dataframe thead tr th {\n",
              "        text-align: left;\n",
              "    }\n",
              "\n",
              "    .dataframe thead tr:last-of-type th {\n",
              "        text-align: right;\n",
              "    }\n",
              "</style>\n",
              "<table border=\"1\" class=\"dataframe\">\n",
              "  <thead>\n",
              "    <tr>\n",
              "      <th></th>\n",
              "      <th></th>\n",
              "      <th></th>\n",
              "      <th></th>\n",
              "      <th></th>\n",
              "      <th></th>\n",
              "      <th colspan=\"6\" halign=\"left\">PrecoAnuncio</th>\n",
              "    </tr>\n",
              "    <tr>\n",
              "      <th></th>\n",
              "      <th></th>\n",
              "      <th></th>\n",
              "      <th></th>\n",
              "      <th></th>\n",
              "      <th></th>\n",
              "      <th>count_nonzero</th>\n",
              "      <th>max</th>\n",
              "      <th>mean</th>\n",
              "      <th>median</th>\n",
              "      <th>min</th>\n",
              "      <th>sum</th>\n",
              "    </tr>\n",
              "    <tr>\n",
              "      <th>Estado</th>\n",
              "      <th>Cidade</th>\n",
              "      <th>Marca</th>\n",
              "      <th>Modelo</th>\n",
              "      <th>AnoModelo</th>\n",
              "      <th>RegraKM</th>\n",
              "      <th></th>\n",
              "      <th></th>\n",
              "      <th></th>\n",
              "      <th></th>\n",
              "      <th></th>\n",
              "      <th></th>\n",
              "    </tr>\n",
              "  </thead>\n",
              "  <tbody>\n",
              "    <tr>\n",
              "      <th rowspan=\"3\" valign=\"top\">SP</th>\n",
              "      <th rowspan=\"3\" valign=\"top\">SAO PAULO</th>\n",
              "      <th>VOLKSWAGEN</th>\n",
              "      <th>NIVUS</th>\n",
              "      <th>2021</th>\n",
              "      <th>ATÉ 15 (KM)</th>\n",
              "      <td>157.00</td>\n",
              "      <td>149900.00</td>\n",
              "      <td>121531.78</td>\n",
              "      <td>121800.00</td>\n",
              "      <td>112990.00</td>\n",
              "      <td>19080489.53</td>\n",
              "    </tr>\n",
              "    <tr>\n",
              "      <th>NISSAN</th>\n",
              "      <th>KICKS</th>\n",
              "      <th>2022</th>\n",
              "      <th>ATÉ 15 (KM)</th>\n",
              "      <td>153.00</td>\n",
              "      <td>130830.00</td>\n",
              "      <td>123406.39</td>\n",
              "      <td>126590.00</td>\n",
              "      <td>109990.00</td>\n",
              "      <td>18881177.76</td>\n",
              "    </tr>\n",
              "    <tr>\n",
              "      <th>VOLKSWAGEN</th>\n",
              "      <th>T-CROSS</th>\n",
              "      <th>2021</th>\n",
              "      <th>ATÉ 15 (KM)</th>\n",
              "      <td>136.00</td>\n",
              "      <td>156990.00</td>\n",
              "      <td>135918.84</td>\n",
              "      <td>139990.00</td>\n",
              "      <td>106890.00</td>\n",
              "      <td>18484961.64</td>\n",
              "    </tr>\n",
              "    <tr>\n",
              "      <th>PE</th>\n",
              "      <th>CARPINA</th>\n",
              "      <th>JEEP</th>\n",
              "      <th>COMPASS</th>\n",
              "      <th>2018</th>\n",
              "      <th>15-25 (KM)</th>\n",
              "      <td>131.00</td>\n",
              "      <td>110700.00</td>\n",
              "      <td>110700.00</td>\n",
              "      <td>110700.00</td>\n",
              "      <td>110700.00</td>\n",
              "      <td>14501700.00</td>\n",
              "    </tr>\n",
              "    <tr>\n",
              "      <th>SP</th>\n",
              "      <th>SAO PAULO</th>\n",
              "      <th>FIAT</th>\n",
              "      <th>ARGO</th>\n",
              "      <th>2020</th>\n",
              "      <th>45-60 (KM)</th>\n",
              "      <td>237.00</td>\n",
              "      <td>60900.00</td>\n",
              "      <td>56317.37</td>\n",
              "      <td>56790.00</td>\n",
              "      <td>52500.00</td>\n",
              "      <td>13347217.00</td>\n",
              "    </tr>\n",
              "    <tr>\n",
              "      <th>PE</th>\n",
              "      <th>TABIRA</th>\n",
              "      <th>JEEP</th>\n",
              "      <th>COMPASS</th>\n",
              "      <th>2018</th>\n",
              "      <th>15-25 (KM)</th>\n",
              "      <td>104.00</td>\n",
              "      <td>110700.00</td>\n",
              "      <td>110700.00</td>\n",
              "      <td>110700.00</td>\n",
              "      <td>110700.00</td>\n",
              "      <td>11512800.00</td>\n",
              "    </tr>\n",
              "    <tr>\n",
              "      <th>SP</th>\n",
              "      <th>SAO PAULO</th>\n",
              "      <th>JEEP</th>\n",
              "      <th>RENEGADE</th>\n",
              "      <th>2021</th>\n",
              "      <th>ATÉ 15 (KM)</th>\n",
              "      <td>108.00</td>\n",
              "      <td>115990.00</td>\n",
              "      <td>93515.55</td>\n",
              "      <td>92990.00</td>\n",
              "      <td>83690.00</td>\n",
              "      <td>10099678.99</td>\n",
              "    </tr>\n",
              "    <tr>\n",
              "      <th>MG</th>\n",
              "      <th>VARGINHA</th>\n",
              "      <th>NISSAN</th>\n",
              "      <th>KICKS</th>\n",
              "      <th>2022</th>\n",
              "      <th>ATÉ 15 (KM)</th>\n",
              "      <td>80.00</td>\n",
              "      <td>132040.00</td>\n",
              "      <td>119270.66</td>\n",
              "      <td>116190.00</td>\n",
              "      <td>105740.00</td>\n",
              "      <td>9541653.00</td>\n",
              "    </tr>\n",
              "    <tr>\n",
              "      <th rowspan=\"6\" valign=\"top\">SP</th>\n",
              "      <th rowspan=\"6\" valign=\"top\">SAO PAULO</th>\n",
              "      <th rowspan=\"2\" valign=\"top\">CHEVROLET</th>\n",
              "      <th>ONIX</th>\n",
              "      <th>2019</th>\n",
              "      <th>45-60 (KM)</th>\n",
              "      <td>180.00</td>\n",
              "      <td>67990.00</td>\n",
              "      <td>52229.16</td>\n",
              "      <td>52990.00</td>\n",
              "      <td>44000.00</td>\n",
              "      <td>9401248.00</td>\n",
              "    </tr>\n",
              "    <tr>\n",
              "      <th>JOY</th>\n",
              "      <th>2020</th>\n",
              "      <th>45-60 (KM)</th>\n",
              "      <td>174.00</td>\n",
              "      <td>57550.00</td>\n",
              "      <td>51868.23</td>\n",
              "      <td>50990.00</td>\n",
              "      <td>45850.00</td>\n",
              "      <td>9025072.00</td>\n",
              "    </tr>\n",
              "    <tr>\n",
              "      <th>HYUNDAI</th>\n",
              "      <th>CRETA</th>\n",
              "      <th>2021</th>\n",
              "      <th>ATÉ 15 (KM)</th>\n",
              "      <td>81.00</td>\n",
              "      <td>127900.00</td>\n",
              "      <td>108814.00</td>\n",
              "      <td>99290.00</td>\n",
              "      <td>91990.00</td>\n",
              "      <td>8813933.75</td>\n",
              "    </tr>\n",
              "    <tr>\n",
              "      <th>RENAULT</th>\n",
              "      <th>LOGAN</th>\n",
              "      <th>2020</th>\n",
              "      <th>45-60 (KM)</th>\n",
              "      <td>166.00</td>\n",
              "      <td>61900.00</td>\n",
              "      <td>51801.62</td>\n",
              "      <td>52390.00</td>\n",
              "      <td>45900.00</td>\n",
              "      <td>8599069.00</td>\n",
              "    </tr>\n",
              "    <tr>\n",
              "      <th>FORD</th>\n",
              "      <th>KA</th>\n",
              "      <th>2020</th>\n",
              "      <th>45-60 (KM)</th>\n",
              "      <td>162.00</td>\n",
              "      <td>61900.00</td>\n",
              "      <td>51020.20</td>\n",
              "      <td>50440.00</td>\n",
              "      <td>44900.00</td>\n",
              "      <td>8265273.00</td>\n",
              "    </tr>\n",
              "    <tr>\n",
              "      <th>RENAULT</th>\n",
              "      <th>SANDERO</th>\n",
              "      <th>2020</th>\n",
              "      <th>45-60 (KM)</th>\n",
              "      <td>149.00</td>\n",
              "      <td>69890.00</td>\n",
              "      <td>51832.01</td>\n",
              "      <td>51490.00</td>\n",
              "      <td>42900.00</td>\n",
              "      <td>7722970.00</td>\n",
              "    </tr>\n",
              "    <tr>\n",
              "      <th>PE</th>\n",
              "      <th>CARPINA</th>\n",
              "      <th>VOLKSWAGEN</th>\n",
              "      <th>VOYAGE</th>\n",
              "      <th>2019</th>\n",
              "      <th>15-25 (KM)</th>\n",
              "      <td>132.00</td>\n",
              "      <td>58000.00</td>\n",
              "      <td>58000.00</td>\n",
              "      <td>58000.00</td>\n",
              "      <td>58000.00</td>\n",
              "      <td>7656000.00</td>\n",
              "    </tr>\n",
              "    <tr>\n",
              "      <th>SP</th>\n",
              "      <th>SAO PAULO</th>\n",
              "      <th>VOLKSWAGEN</th>\n",
              "      <th>T-CROSS</th>\n",
              "      <th>2020</th>\n",
              "      <th>45-60 (KM)</th>\n",
              "      <td>65.00</td>\n",
              "      <td>135800.00</td>\n",
              "      <td>111041.06</td>\n",
              "      <td>110700.00</td>\n",
              "      <td>96700.00</td>\n",
              "      <td>7217668.88</td>\n",
              "    </tr>\n",
              "    <tr>\n",
              "      <th>PE</th>\n",
              "      <th>TABIRA</th>\n",
              "      <th>VOLKSWAGEN</th>\n",
              "      <th>VOYAGE</th>\n",
              "      <th>2019</th>\n",
              "      <th>15-25 (KM)</th>\n",
              "      <td>120.00</td>\n",
              "      <td>58000.00</td>\n",
              "      <td>58000.00</td>\n",
              "      <td>58000.00</td>\n",
              "      <td>58000.00</td>\n",
              "      <td>6960000.00</td>\n",
              "    </tr>\n",
              "    <tr>\n",
              "      <th rowspan=\"3\" valign=\"top\">SP</th>\n",
              "      <th rowspan=\"3\" valign=\"top\">SAO PAULO</th>\n",
              "      <th>VOLKSWAGEN</th>\n",
              "      <th>VIRTUS</th>\n",
              "      <th>2020</th>\n",
              "      <th>45-60 (KM)</th>\n",
              "      <td>90.00</td>\n",
              "      <td>83990.00</td>\n",
              "      <td>76832.00</td>\n",
              "      <td>80240.00</td>\n",
              "      <td>66880.00</td>\n",
              "      <td>6914880.00</td>\n",
              "    </tr>\n",
              "    <tr>\n",
              "      <th rowspan=\"2\" valign=\"top\">CHEVROLET</th>\n",
              "      <th>PRISMA</th>\n",
              "      <th>2019</th>\n",
              "      <th>45-60 (KM)</th>\n",
              "      <td>117.00</td>\n",
              "      <td>67890.00</td>\n",
              "      <td>57277.17</td>\n",
              "      <td>53120.00</td>\n",
              "      <td>48500.00</td>\n",
              "      <td>6701429.00</td>\n",
              "    </tr>\n",
              "    <tr>\n",
              "      <th>ONIX</th>\n",
              "      <th>2020</th>\n",
              "      <th>45-60 (KM)</th>\n",
              "      <td>89.00</td>\n",
              "      <td>82890.00</td>\n",
              "      <td>69925.74</td>\n",
              "      <td>67020.00</td>\n",
              "      <td>52990.00</td>\n",
              "      <td>6223391.00</td>\n",
              "    </tr>\n",
              "  </tbody>\n",
              "</table>\n",
              "</div>"
            ],
            "text/plain": [
              "                                                            PrecoAnuncio  ...            \n",
              "                                                           count_nonzero  ...         sum\n",
              "Estado Cidade    Marca      Modelo   AnoModelo RegraKM                    ...            \n",
              "SP     SAO PAULO VOLKSWAGEN NIVUS    2021      ATÉ 15 (KM)        157.00  ... 19080489.53\n",
              "                 NISSAN     KICKS    2022      ATÉ 15 (KM)        153.00  ... 18881177.76\n",
              "                 VOLKSWAGEN T-CROSS  2021      ATÉ 15 (KM)        136.00  ... 18484961.64\n",
              "PE     CARPINA   JEEP       COMPASS  2018      15-25 (KM)         131.00  ... 14501700.00\n",
              "SP     SAO PAULO FIAT       ARGO     2020      45-60 (KM)         237.00  ... 13347217.00\n",
              "PE     TABIRA    JEEP       COMPASS  2018      15-25 (KM)         104.00  ... 11512800.00\n",
              "SP     SAO PAULO JEEP       RENEGADE 2021      ATÉ 15 (KM)        108.00  ... 10099678.99\n",
              "MG     VARGINHA  NISSAN     KICKS    2022      ATÉ 15 (KM)         80.00  ...  9541653.00\n",
              "SP     SAO PAULO CHEVROLET  ONIX     2019      45-60 (KM)         180.00  ...  9401248.00\n",
              "                            JOY      2020      45-60 (KM)         174.00  ...  9025072.00\n",
              "                 HYUNDAI    CRETA    2021      ATÉ 15 (KM)         81.00  ...  8813933.75\n",
              "                 RENAULT    LOGAN    2020      45-60 (KM)         166.00  ...  8599069.00\n",
              "                 FORD       KA       2020      45-60 (KM)         162.00  ...  8265273.00\n",
              "                 RENAULT    SANDERO  2020      45-60 (KM)         149.00  ...  7722970.00\n",
              "PE     CARPINA   VOLKSWAGEN VOYAGE   2019      15-25 (KM)         132.00  ...  7656000.00\n",
              "SP     SAO PAULO VOLKSWAGEN T-CROSS  2020      45-60 (KM)          65.00  ...  7217668.88\n",
              "PE     TABIRA    VOLKSWAGEN VOYAGE   2019      15-25 (KM)         120.00  ...  6960000.00\n",
              "SP     SAO PAULO VOLKSWAGEN VIRTUS   2020      45-60 (KM)          90.00  ...  6914880.00\n",
              "                 CHEVROLET  PRISMA   2019      45-60 (KM)         117.00  ...  6701429.00\n",
              "                            ONIX     2020      45-60 (KM)          89.00  ...  6223391.00\n",
              "\n",
              "[20 rows x 6 columns]"
            ]
          },
          "metadata": {},
          "execution_count": 29
        }
      ]
    },
    {
      "cell_type": "code",
      "metadata": {
        "colab": {
          "base_uri": "https://localhost:8080/"
        },
        "id": "6aIyyX17cKJA",
        "outputId": "6141a507-c6c7-42dc-e809-2cc6cd6d38f6"
      },
      "source": [
        "#Bloco 2: aplicando um filtro específico ALEATÓRIO  - 1\n",
        "(table[('PrecoAnuncio', 'max')]==161900.00).sum()"
      ],
      "execution_count": null,
      "outputs": [
        {
          "output_type": "execute_result",
          "data": {
            "text/plain": [
              "18"
            ]
          },
          "metadata": {},
          "execution_count": 30
        }
      ]
    },
    {
      "cell_type": "code",
      "metadata": {
        "colab": {
          "base_uri": "https://localhost:8080/",
          "height": 886
        },
        "id": "mo5LlbtPY-Bg",
        "outputId": "61c31b1b-3404-4a21-bd89-63bd2a24e31a"
      },
      "source": [
        "#Bloco 2: aplicando um filtro específico ALEATÓRIO  - 2\n",
        "table.loc[('SP', 'SAO PAULO', 'TOYOTA', 'COROLLA')].sort_values(by=('PrecoAnuncio', 'sum'), ascending=True)"
      ],
      "execution_count": null,
      "outputs": [
        {
          "output_type": "execute_result",
          "data": {
            "text/html": [
              "<div>\n",
              "<style scoped>\n",
              "    .dataframe tbody tr th:only-of-type {\n",
              "        vertical-align: middle;\n",
              "    }\n",
              "\n",
              "    .dataframe tbody tr th {\n",
              "        vertical-align: top;\n",
              "    }\n",
              "\n",
              "    .dataframe thead tr th {\n",
              "        text-align: left;\n",
              "    }\n",
              "\n",
              "    .dataframe thead tr:last-of-type th {\n",
              "        text-align: right;\n",
              "    }\n",
              "</style>\n",
              "<table border=\"1\" class=\"dataframe\">\n",
              "  <thead>\n",
              "    <tr>\n",
              "      <th></th>\n",
              "      <th></th>\n",
              "      <th colspan=\"6\" halign=\"left\">PrecoAnuncio</th>\n",
              "    </tr>\n",
              "    <tr>\n",
              "      <th></th>\n",
              "      <th></th>\n",
              "      <th>count_nonzero</th>\n",
              "      <th>max</th>\n",
              "      <th>mean</th>\n",
              "      <th>median</th>\n",
              "      <th>min</th>\n",
              "      <th>sum</th>\n",
              "    </tr>\n",
              "    <tr>\n",
              "      <th>AnoModelo</th>\n",
              "      <th>RegraKM</th>\n",
              "      <th></th>\n",
              "      <th></th>\n",
              "      <th></th>\n",
              "      <th></th>\n",
              "      <th></th>\n",
              "      <th></th>\n",
              "    </tr>\n",
              "  </thead>\n",
              "  <tbody>\n",
              "    <tr>\n",
              "      <th rowspan=\"2\" valign=\"top\">2017</th>\n",
              "      <th>45-60 (KM)</th>\n",
              "      <td>1.00</td>\n",
              "      <td>79900.00</td>\n",
              "      <td>79900.00</td>\n",
              "      <td>79900.00</td>\n",
              "      <td>79900.00</td>\n",
              "      <td>79900.00</td>\n",
              "    </tr>\n",
              "    <tr>\n",
              "      <th>35-45 (KM)</th>\n",
              "      <td>1.00</td>\n",
              "      <td>85900.00</td>\n",
              "      <td>85900.00</td>\n",
              "      <td>85900.00</td>\n",
              "      <td>85900.00</td>\n",
              "      <td>85900.00</td>\n",
              "    </tr>\n",
              "    <tr>\n",
              "      <th>2019</th>\n",
              "      <th>ACIMA 80 (KM)</th>\n",
              "      <td>1.00</td>\n",
              "      <td>91429.00</td>\n",
              "      <td>91429.00</td>\n",
              "      <td>91429.00</td>\n",
              "      <td>91429.00</td>\n",
              "      <td>91429.00</td>\n",
              "    </tr>\n",
              "    <tr>\n",
              "      <th>2021</th>\n",
              "      <th>35-45 (KM)</th>\n",
              "      <td>1.00</td>\n",
              "      <td>118890.00</td>\n",
              "      <td>118890.00</td>\n",
              "      <td>118890.00</td>\n",
              "      <td>118890.00</td>\n",
              "      <td>118890.00</td>\n",
              "    </tr>\n",
              "    <tr>\n",
              "      <th>2017</th>\n",
              "      <th>ACIMA 80 (KM)</th>\n",
              "      <td>2.00</td>\n",
              "      <td>83890.00</td>\n",
              "      <td>80895.00</td>\n",
              "      <td>80895.00</td>\n",
              "      <td>77900.00</td>\n",
              "      <td>161790.00</td>\n",
              "    </tr>\n",
              "    <tr>\n",
              "      <th rowspan=\"2\" valign=\"top\">2018</th>\n",
              "      <th>15-25 (KM)</th>\n",
              "      <td>2.00</td>\n",
              "      <td>89900.00</td>\n",
              "      <td>88400.00</td>\n",
              "      <td>88400.00</td>\n",
              "      <td>86900.00</td>\n",
              "      <td>176800.00</td>\n",
              "    </tr>\n",
              "    <tr>\n",
              "      <th>25-35 (KM)</th>\n",
              "      <td>3.00</td>\n",
              "      <td>87000.00</td>\n",
              "      <td>82966.67</td>\n",
              "      <td>84000.00</td>\n",
              "      <td>77900.00</td>\n",
              "      <td>248900.00</td>\n",
              "    </tr>\n",
              "    <tr>\n",
              "      <th>2017</th>\n",
              "      <th>60-80 (KM)</th>\n",
              "      <td>4.00</td>\n",
              "      <td>87900.00</td>\n",
              "      <td>79925.00</td>\n",
              "      <td>77500.00</td>\n",
              "      <td>76800.00</td>\n",
              "      <td>319700.00</td>\n",
              "    </tr>\n",
              "    <tr>\n",
              "      <th>2018</th>\n",
              "      <th>ACIMA 80 (KM)</th>\n",
              "      <td>4.00</td>\n",
              "      <td>85990.00</td>\n",
              "      <td>84297.50</td>\n",
              "      <td>84700.00</td>\n",
              "      <td>81800.00</td>\n",
              "      <td>337190.00</td>\n",
              "    </tr>\n",
              "    <tr>\n",
              "      <th>2021</th>\n",
              "      <th>25-35 (KM)</th>\n",
              "      <td>3.00</td>\n",
              "      <td>124990.00</td>\n",
              "      <td>124990.00</td>\n",
              "      <td>124990.00</td>\n",
              "      <td>124990.00</td>\n",
              "      <td>374970.00</td>\n",
              "    </tr>\n",
              "    <tr>\n",
              "      <th>2019</th>\n",
              "      <th>25-35 (KM)</th>\n",
              "      <td>4.00</td>\n",
              "      <td>99990.00</td>\n",
              "      <td>96872.50</td>\n",
              "      <td>96800.00</td>\n",
              "      <td>93900.00</td>\n",
              "      <td>387490.00</td>\n",
              "    </tr>\n",
              "    <tr>\n",
              "      <th>2020</th>\n",
              "      <th>25-35 (KM)</th>\n",
              "      <td>3.00</td>\n",
              "      <td>150900.00</td>\n",
              "      <td>140900.00</td>\n",
              "      <td>139800.00</td>\n",
              "      <td>132000.00</td>\n",
              "      <td>422700.00</td>\n",
              "    </tr>\n",
              "    <tr>\n",
              "      <th>2018</th>\n",
              "      <th>60-80 (KM)</th>\n",
              "      <td>5.00</td>\n",
              "      <td>93990.00</td>\n",
              "      <td>85776.00</td>\n",
              "      <td>85000.00</td>\n",
              "      <td>80990.00</td>\n",
              "      <td>428880.00</td>\n",
              "    </tr>\n",
              "    <tr>\n",
              "      <th rowspan=\"2\" valign=\"top\">2020</th>\n",
              "      <th>35-45 (KM)</th>\n",
              "      <td>4.00</td>\n",
              "      <td>128000.00</td>\n",
              "      <td>124747.50</td>\n",
              "      <td>124495.00</td>\n",
              "      <td>122000.00</td>\n",
              "      <td>498990.00</td>\n",
              "    </tr>\n",
              "    <tr>\n",
              "      <th>ATÉ 15 (KM)</th>\n",
              "      <td>4.00</td>\n",
              "      <td>146800.00</td>\n",
              "      <td>138172.50</td>\n",
              "      <td>137995.00</td>\n",
              "      <td>129900.00</td>\n",
              "      <td>552690.00</td>\n",
              "    </tr>\n",
              "    <tr>\n",
              "      <th>2021</th>\n",
              "      <th>15-25 (KM)</th>\n",
              "      <td>4.00</td>\n",
              "      <td>158000.00</td>\n",
              "      <td>153217.50</td>\n",
              "      <td>153990.00</td>\n",
              "      <td>146890.00</td>\n",
              "      <td>612870.00</td>\n",
              "    </tr>\n",
              "    <tr>\n",
              "      <th>2019</th>\n",
              "      <th>ATÉ 15 (KM)</th>\n",
              "      <td>6.00</td>\n",
              "      <td>143010.00</td>\n",
              "      <td>102611.67</td>\n",
              "      <td>94440.00</td>\n",
              "      <td>93890.00</td>\n",
              "      <td>615670.00</td>\n",
              "    </tr>\n",
              "    <tr>\n",
              "      <th rowspan=\"2\" valign=\"top\">2018</th>\n",
              "      <th>35-45 (KM)</th>\n",
              "      <td>9.00</td>\n",
              "      <td>102900.00</td>\n",
              "      <td>89938.00</td>\n",
              "      <td>89890.00</td>\n",
              "      <td>85000.00</td>\n",
              "      <td>809442.00</td>\n",
              "    </tr>\n",
              "    <tr>\n",
              "      <th>45-60 (KM)</th>\n",
              "      <td>10.00</td>\n",
              "      <td>91990.00</td>\n",
              "      <td>87135.80</td>\n",
              "      <td>86900.00</td>\n",
              "      <td>82780.00</td>\n",
              "      <td>871358.00</td>\n",
              "    </tr>\n",
              "    <tr>\n",
              "      <th>2020</th>\n",
              "      <th>15-25 (KM)</th>\n",
              "      <td>7.00</td>\n",
              "      <td>151990.00</td>\n",
              "      <td>133697.14</td>\n",
              "      <td>128000.00</td>\n",
              "      <td>120000.00</td>\n",
              "      <td>935880.00</td>\n",
              "    </tr>\n",
              "    <tr>\n",
              "      <th rowspan=\"4\" valign=\"top\">2019</th>\n",
              "      <th>60-80 (KM)</th>\n",
              "      <td>10.00</td>\n",
              "      <td>137390.00</td>\n",
              "      <td>97075.80</td>\n",
              "      <td>92950.00</td>\n",
              "      <td>87490.00</td>\n",
              "      <td>970758.00</td>\n",
              "    </tr>\n",
              "    <tr>\n",
              "      <th>15-25 (KM)</th>\n",
              "      <td>11.00</td>\n",
              "      <td>113720.00</td>\n",
              "      <td>105130.00</td>\n",
              "      <td>99990.00</td>\n",
              "      <td>94980.00</td>\n",
              "      <td>1156430.00</td>\n",
              "    </tr>\n",
              "    <tr>\n",
              "      <th>45-60 (KM)</th>\n",
              "      <td>14.00</td>\n",
              "      <td>97900.00</td>\n",
              "      <td>93662.14</td>\n",
              "      <td>93900.00</td>\n",
              "      <td>89890.00</td>\n",
              "      <td>1311270.00</td>\n",
              "    </tr>\n",
              "    <tr>\n",
              "      <th>35-45 (KM)</th>\n",
              "      <td>18.00</td>\n",
              "      <td>98990.00</td>\n",
              "      <td>94330.94</td>\n",
              "      <td>94148.50</td>\n",
              "      <td>90800.00</td>\n",
              "      <td>1697957.00</td>\n",
              "    </tr>\n",
              "    <tr>\n",
              "      <th>2021</th>\n",
              "      <th>ATÉ 15 (KM)</th>\n",
              "      <td>26.00</td>\n",
              "      <td>161500.00</td>\n",
              "      <td>145111.64</td>\n",
              "      <td>149998.00</td>\n",
              "      <td>115900.00</td>\n",
              "      <td>3772902.77</td>\n",
              "    </tr>\n",
              "  </tbody>\n",
              "</table>\n",
              "</div>"
            ],
            "text/plain": [
              "                         PrecoAnuncio            ...                     \n",
              "                        count_nonzero       max  ...       min        sum\n",
              "AnoModelo RegraKM                                ...                     \n",
              "2017      45-60 (KM)             1.00  79900.00  ...  79900.00   79900.00\n",
              "          35-45 (KM)             1.00  85900.00  ...  85900.00   85900.00\n",
              "2019      ACIMA 80 (KM)          1.00  91429.00  ...  91429.00   91429.00\n",
              "2021      35-45 (KM)             1.00 118890.00  ... 118890.00  118890.00\n",
              "2017      ACIMA 80 (KM)          2.00  83890.00  ...  77900.00  161790.00\n",
              "2018      15-25 (KM)             2.00  89900.00  ...  86900.00  176800.00\n",
              "          25-35 (KM)             3.00  87000.00  ...  77900.00  248900.00\n",
              "2017      60-80 (KM)             4.00  87900.00  ...  76800.00  319700.00\n",
              "2018      ACIMA 80 (KM)          4.00  85990.00  ...  81800.00  337190.00\n",
              "2021      25-35 (KM)             3.00 124990.00  ... 124990.00  374970.00\n",
              "2019      25-35 (KM)             4.00  99990.00  ...  93900.00  387490.00\n",
              "2020      25-35 (KM)             3.00 150900.00  ... 132000.00  422700.00\n",
              "2018      60-80 (KM)             5.00  93990.00  ...  80990.00  428880.00\n",
              "2020      35-45 (KM)             4.00 128000.00  ... 122000.00  498990.00\n",
              "          ATÉ 15 (KM)            4.00 146800.00  ... 129900.00  552690.00\n",
              "2021      15-25 (KM)             4.00 158000.00  ... 146890.00  612870.00\n",
              "2019      ATÉ 15 (KM)            6.00 143010.00  ...  93890.00  615670.00\n",
              "2018      35-45 (KM)             9.00 102900.00  ...  85000.00  809442.00\n",
              "          45-60 (KM)            10.00  91990.00  ...  82780.00  871358.00\n",
              "2020      15-25 (KM)             7.00 151990.00  ... 120000.00  935880.00\n",
              "2019      60-80 (KM)            10.00 137390.00  ...  87490.00  970758.00\n",
              "          15-25 (KM)            11.00 113720.00  ...  94980.00 1156430.00\n",
              "          45-60 (KM)            14.00  97900.00  ...  89890.00 1311270.00\n",
              "          35-45 (KM)            18.00  98990.00  ...  90800.00 1697957.00\n",
              "2021      ATÉ 15 (KM)           26.00 161500.00  ... 115900.00 3772902.77\n",
              "\n",
              "[25 rows x 6 columns]"
            ]
          },
          "metadata": {},
          "execution_count": 31
        }
      ]
    },
    {
      "cell_type": "markdown",
      "metadata": {
        "id": "AqYTWTR0aidR"
      },
      "source": [
        ""
      ]
    },
    {
      "cell_type": "markdown",
      "metadata": {
        "id": "x5dKz2OIYbyh"
      },
      "source": [
        "-------------\n",
        "**Bloco 3** Construção de Gráficos de Barras\n",
        "\n",
        "Sendo gráfico de barras uma forma de resumir um conjunto de dados categóricos, utilizaremos deste recursos para analisar a variável  de valor `PrecoAnuncio` e seu comportamento agregado frente às variáveis categóricas `Estado`, `Cidade`, `RegraKM`, `AnoModelo` e `Vendedor`, visualizando assim os valores acumulados (somatório) para uma destas categorias, respondendo às perguntas de quanto $ acumulado nos anúncios veículados.\n",
        "\n",
        "**Os valores estarão representados em unidades por milhão.**\n"
      ]
    },
    {
      "cell_type": "markdown",
      "metadata": {
        "id": "f23zztE0b1eO"
      },
      "source": [
        "### Grafico de Barras por Estados"
      ]
    },
    {
      "cell_type": "code",
      "metadata": {
        "id": "DvGEYKvKEdd_"
      },
      "source": [
        "#Bloco 3: Agrupando Somatório de PrecoAnuncio por estado\n",
        "Estados_precos = df_limpo[['Estado', 'PrecoAnuncio']].groupby('Estado').sum('PrecoAnuncio').sort_values('PrecoAnuncio', ascending = False)\n",
        "Estados_precos = Estados_precos.reset_index()\n",
        "Estados_precos[\"PrecoAnuncioMilhao\"] = Estados_precos[\"PrecoAnuncio\"] / 1000000"
      ],
      "execution_count": null,
      "outputs": []
    },
    {
      "cell_type": "code",
      "metadata": {
        "colab": {
          "base_uri": "https://localhost:8080/",
          "height": 441
        },
        "id": "eXCcmIV-r4Rh",
        "outputId": "5f035128-4153-4c19-88d9-5dca7319d2ae"
      },
      "source": [
        "#Bloco 3: Plotando Gráfico de barras acumulado por estado\n",
        "fig, ax = plt.subplots(figsize=(10,6))\n",
        "Estados_precos.sort_values(by='PrecoAnuncioMilhao', ascending = False)[:5].plot(x='Estado', y='PrecoAnuncioMilhao', kind='bar', ax=ax)\n",
        "ax.set_title('Acumulado de valores (Preço dos Anuncios) por Estado')\n",
        "ax.set_xlabel('Estados')\n",
        "ax.set_ylabel('PrecoAnuncio Acumulado Por Milhão')\n",
        "\n",
        "plt.tight_layout()"
      ],
      "execution_count": null,
      "outputs": [
        {
          "output_type": "display_data",
          "data": {
            "image/png": "[encoded data removed]",
            "text/plain": [
              "<Figure size 720x432 with 1 Axes>"
            ]
          },
          "metadata": {
            "needs_background": "light"
          }
        }
      ]
    },
    {
      "cell_type": "markdown",
      "metadata": {
        "id": "MZfRsdYYcC2n"
      },
      "source": [
        "------------------------------\n",
        "### Grafico de Barras por Cidades"
      ]
    },
    {
      "cell_type": "code",
      "metadata": {
        "id": "kkcl7kCdlG8Y"
      },
      "source": [
        "#Bloco 3: Agrupando Somatório de PrecoAnuncio por Cidades\n",
        "Cidades_precos = df_limpo[['Estado', 'Cidade', 'PrecoAnuncio']].groupby(['Estado', 'Cidade']).sum('PrecoAnuncio').sort_values('PrecoAnuncio', ascending = False)\n",
        "Cidades_precos = Cidades_precos.reset_index()\n",
        "Cidades_precos[\"PrecoAnuncioMilhao\"] = Cidades_precos[\"PrecoAnuncio\"] / 1000000\n"
      ],
      "execution_count": null,
      "outputs": []
    },
    {
      "cell_type": "code",
      "metadata": {
        "colab": {
          "base_uri": "https://localhost:8080/",
          "height": 441
        },
        "id": "5BMLE3vFbLtj",
        "outputId": "2f2f209b-d6d2-4078-ff33-82380044d504"
      },
      "source": [
        "#Bloco 3: Plotando Gráfico de barras acumulado por Cidades\n",
        "fig, ax = plt.subplots(figsize=(10,6))\n",
        "Cidades_precos.sort_values(by='PrecoAnuncioMilhao', ascending = False)[:5].plot(x='Cidade', y='PrecoAnuncioMilhao', kind='bar', ax=ax)\n",
        "ax.set_title('Acumulado de valores (Preço dos Anuncios) por Cidade')\n",
        "ax.set_xlabel('Cidade')\n",
        "ax.set_ylabel('PrecoAnuncio Acumulado Por Milhão')\n",
        "\n",
        "plt.tight_layout()"
      ],
      "execution_count": null,
      "outputs": [
        {
          "output_type": "display_data",
          "data": {
            "image/png": "[encoded data removed]",
            "text/plain": [
              "<Figure size 720x432 with 1 Axes>"
            ]
          },
          "metadata": {
            "needs_background": "light"
          }
        }
      ]
    },
    {
      "cell_type": "markdown",
      "metadata": {
        "id": "2fDN38dHcFSH"
      },
      "source": [
        "---------------\n",
        "### Grafico de Barras por Cidade em um Estado específicado "
      ]
    },
    {
      "cell_type": "code",
      "metadata": {
        "colab": {
          "base_uri": "https://localhost:8080/",
          "height": 441
        },
        "id": "xbFZkhjcmll-",
        "outputId": "959dd0da-ba5e-4dd9-d5a3-26cf2ac17904"
      },
      "source": [
        "#Bloco 3: Plotando Gráfico de barras acumulado por Cidades para um Estado especificado\n",
        "fig, ax = plt.subplots(figsize=(10,6))\n",
        "Cidades_precos[Cidades_precos['Estado'] =='SP'].sort_values(by='PrecoAnuncioMilhao', ascending = False)[:5].plot(x='Cidade', y='PrecoAnuncioMilhao', kind='bar', ax=ax)\n",
        "\n",
        "ax.set_title('Acumulado de valores (Preço dos Anuncios) por Cidade')\n",
        "ax.set_xlabel('Cidades')\n",
        "ax.set_ylabel('PrecoAnuncio Acumulado Por Milhão')\n",
        "\n",
        "plt.tight_layout()"
      ],
      "execution_count": null,
      "outputs": [
        {
          "output_type": "display_data",
          "data": {
            "image/png": "[encoded data removed]",
            "text/plain": [
              "<Figure size 720x432 with 1 Axes>"
            ]
          },
          "metadata": {
            "needs_background": "light"
          }
        }
      ]
    },
    {
      "cell_type": "markdown",
      "metadata": {
        "id": "zdCqhJSKcev7"
      },
      "source": [
        "------------------------------\n",
        "### Grafico de Barras por RegraKM"
      ]
    },
    {
      "cell_type": "code",
      "metadata": {
        "id": "IdzMZGsGr9sX"
      },
      "source": [
        "#Bloco 3: Agrupando Somatório de PrecoAnuncio por RegraKM\n",
        "RegraKM_precos = df_limpo[['RegraKM', 'PrecoAnuncio']].groupby('RegraKM').sum('PrecoAnuncio').sort_values('PrecoAnuncio', ascending = False)\n",
        "RegraKM_precos = RegraKM_precos.reset_index()\n",
        "RegraKM_precos[\"PrecoAnuncioMilhao\"] = RegraKM_precos[\"PrecoAnuncio\"] / 1000000"
      ],
      "execution_count": null,
      "outputs": []
    },
    {
      "cell_type": "code",
      "metadata": {
        "colab": {
          "base_uri": "https://localhost:8080/",
          "height": 441
        },
        "id": "12ramF6bf0Mk",
        "outputId": "96a214f1-29a0-40f0-d164-b2aabe7e2137"
      },
      "source": [
        "#Bloco 3: Plotando Gráfico de barras acumulado por RegraKM\n",
        "fig, ax = plt.subplots(figsize=(10,6))\n",
        "RegraKM_precos.sort_values(by='PrecoAnuncioMilhao', ascending = False).plot(x='RegraKM', y='PrecoAnuncioMilhao', kind='bar', ax=ax)\n",
        "ax.set_title('Acumulado de valores (Preço dos Anuncios) por RegraKM')\n",
        "ax.set_xlabel('RegraKM')\n",
        "ax.set_ylabel('PrecoAnuncio Acumulado Por Milhão')\n",
        "\n",
        "plt.tight_layout()"
      ],
      "execution_count": null,
      "outputs": [
        {
          "output_type": "display_data",
          "data": {
            "image/png": "[encoded data removed]",
            "text/plain": [
              "<Figure size 720x432 with 1 Axes>"
            ]
          },
          "metadata": {
            "needs_background": "light"
          }
        }
      ]
    },
    {
      "cell_type": "markdown",
      "metadata": {
        "id": "Q7trbak7c3nQ"
      },
      "source": [
        "------------------------------\n",
        "### Grafico de Barras por AnoModelo"
      ]
    },
    {
      "cell_type": "code",
      "metadata": {
        "id": "gkAryZjwin-J"
      },
      "source": [
        "#Bloco 3: Agrupando Somatório de PrecoAnuncio por AnoModelo\n",
        "AnoModelo_precos = df_limpo[['AnoModelo', 'PrecoAnuncio']].groupby('AnoModelo').sum('PrecoAnuncio').sort_values('PrecoAnuncio', ascending = False)\n",
        "AnoModelo_precos = AnoModelo_precos.reset_index()\n",
        "AnoModelo_precos[\"PrecoAnuncioMilhao\"] = AnoModelo_precos[\"PrecoAnuncio\"] / 1000000"
      ],
      "execution_count": null,
      "outputs": []
    },
    {
      "cell_type": "code",
      "metadata": {
        "colab": {
          "base_uri": "https://localhost:8080/",
          "height": 441
        },
        "id": "J0R_mrt5iy_4",
        "outputId": "6bab95d9-f43c-4354-d461-4e25858791c5"
      },
      "source": [
        "#Bloco 3: Plotando Gráfico de barras acumulado por AnoModelo\n",
        "fig, ax = plt.subplots(figsize=(10,6))\n",
        "AnoModelo_precos.sort_values(by='PrecoAnuncioMilhao', ascending = False)[:5].plot(x='AnoModelo', y='PrecoAnuncioMilhao', kind='bar', ax=ax)\n",
        "ax.set_title('Acumulado de valores (Preço dos Anuncios) por AnoModelo')\n",
        "ax.set_xlabel('AnoModelo')\n",
        "ax.set_ylabel('PrecoAnuncio Acumulado Por Milhão')\n",
        "\n",
        "plt.tight_layout()"
      ],
      "execution_count": null,
      "outputs": [
        {
          "output_type": "display_data",
          "data": {
            "image/png": "[encoded data removed]",
            "text/plain": [
              "<Figure size 720x432 with 1 Axes>"
            ]
          },
          "metadata": {
            "needs_background": "light"
          }
        }
      ]
    },
    {
      "cell_type": "code",
      "metadata": {
        "id": "el4xPAcXq1Yw"
      },
      "source": [
        "#Bloco 3: Agrupando Somatório de PrecoAnuncio por Vendedor\n",
        "Vendedor_precos = df_limpo[['Vendedor', 'PrecoAnuncio']].groupby('Vendedor').sum('PrecoAnuncio').sort_values('PrecoAnuncio', ascending = False)\n",
        "Vendedor_precos = Vendedor_precos.reset_index()\n",
        "Vendedor_precos[\"PrecoAnuncioMilhao\"] = Vendedor_precos[\"PrecoAnuncio\"] / 1000000"
      ],
      "execution_count": null,
      "outputs": []
    },
    {
      "cell_type": "code",
      "metadata": {
        "colab": {
          "base_uri": "https://localhost:8080/",
          "height": 441
        },
        "id": "A7KQctPxsEZ8",
        "outputId": "019bd62c-1de5-4081-f7ee-e8cae2034f66"
      },
      "source": [
        "#Bloco 3: Plotando Gráfico de barras acumulado por Vendedor\n",
        "fig, ax = plt.subplots(figsize=(10,6))\n",
        "Vendedor_precos.sort_values(by='PrecoAnuncioMilhao', ascending = False).plot(x='Vendedor', y='PrecoAnuncioMilhao', kind='bar', ax=ax)\n",
        "ax.set_title('Acumulado de valores (Preço dos Anuncios) por Vendedor')\n",
        "ax.set_xlabel('Vendedor')\n",
        "ax.set_ylabel('PrecoAnuncio Acumulado Por Milhão')\n",
        "\n",
        "plt.tight_layout()"
      ],
      "execution_count": null,
      "outputs": [
        {
          "output_type": "display_data",
          "data": {
            "image/png": "[encoded data removed]",
            "text/plain": [
              "<Figure size 720x432 with 1 Axes>"
            ]
          },
          "metadata": {
            "needs_background": "light"
          }
        }
      ]
    },
    {
      "cell_type": "markdown",
      "metadata": {
        "id": "dNDg-8CodWgY"
      },
      "source": [
        "------------------------------\n",
        "**Bloco 4** Criação  de 2 novas colunas no dataset\n",
        "\n",
        "Criando 2 novas colunas no dataset de trabalho (pós limpeza) com objetivo de possibilitar construção de gráficos de barras com 2 novas categorias para análises:\n",
        "* `MarcaModelo`: junção do modelo à sua Marca correspondente\n",
        "* `EstadoCidade`: junção da cidade à seu estado correspondente\n",
        "\n"
      ]
    },
    {
      "cell_type": "code",
      "metadata": {
        "colab": {
          "base_uri": "https://localhost:8080/",
          "height": 496
        },
        "id": "Yu_ts8JLh7Ve",
        "outputId": "d3efb786-48a1-44f0-8b93-5a83eb6aaab5"
      },
      "source": [
        "#Bloco 4: Criação de novas colunas, \"MarcaModelo\" e \"EstadoCidade\" no Dataset de trabalho\n",
        "df_limpo['MarcaModelo'] = df_limpo['Marca'] + '-' + df_limpo['Modelo']\n",
        "df_limpo['EstadoCidade'] = df_limpo['Estado'] + '-' + df_limpo['Cidade']\n",
        "\n",
        "#visualizando novas colunas ao final do dataset\n",
        "df_limpo.head()"
      ],
      "execution_count": null,
      "outputs": [
        {
          "output_type": "execute_result",
          "data": {
            "text/html": [
              "<div>\n",
              "<style scoped>\n",
              "    .dataframe tbody tr th:only-of-type {\n",
              "        vertical-align: middle;\n",
              "    }\n",
              "\n",
              "    .dataframe tbody tr th {\n",
              "        vertical-align: top;\n",
              "    }\n",
              "\n",
              "    .dataframe thead th {\n",
              "        text-align: right;\n",
              "    }\n",
              "</style>\n",
              "<table border=\"1\" class=\"dataframe\">\n",
              "  <thead>\n",
              "    <tr style=\"text-align: right;\">\n",
              "      <th></th>\n",
              "      <th>CodigoFipe</th>\n",
              "      <th>Marca</th>\n",
              "      <th>Modelo</th>\n",
              "      <th>AnoModelo</th>\n",
              "      <th>AnoFabricacao</th>\n",
              "      <th>RegraKM</th>\n",
              "      <th>Quilometragem</th>\n",
              "      <th>PrecoAnuncio</th>\n",
              "      <th>TipoAnuncio</th>\n",
              "      <th>DescricaoSite</th>\n",
              "      <th>Cidade</th>\n",
              "      <th>Estado</th>\n",
              "      <th>Pais</th>\n",
              "      <th>MarketPlace</th>\n",
              "      <th>Vendedor</th>\n",
              "      <th>vendedorMarketplace</th>\n",
              "      <th>IdAnuncio</th>\n",
              "      <th>LinkAnuncio</th>\n",
              "      <th>DATA</th>\n",
              "      <th>MarcaModelo</th>\n",
              "      <th>EstadoCidade</th>\n",
              "    </tr>\n",
              "  </thead>\n",
              "  <tbody>\n",
              "    <tr>\n",
              "      <th>1</th>\n",
              "      <td>NaN</td>\n",
              "      <td>FORD</td>\n",
              "      <td>ECOSPORT</td>\n",
              "      <td>2020</td>\n",
              "      <td>2019</td>\n",
              "      <td>ATÉ 15 (KM)</td>\n",
              "      <td>5940</td>\n",
              "      <td>81450.00</td>\n",
              "      <td>PJ</td>\n",
              "      <td>ECOSPORT SE 1.5 12V FLEX 4P C/AR - AUTOMATICO</td>\n",
              "      <td>SAO PAULO</td>\n",
              "      <td>SP</td>\n",
              "      <td>BR</td>\n",
              "      <td>NaN</td>\n",
              "      <td>LOCALIZA</td>\n",
              "      <td>Localiza</td>\n",
              "      <td>110397</td>\n",
              "      <td>https://seminovos.localiza.com/ford_ecosport_s...</td>\n",
              "      <td>2021-07-30</td>\n",
              "      <td>FORD-ECOSPORT</td>\n",
              "      <td>SP-SAO PAULO</td>\n",
              "    </tr>\n",
              "    <tr>\n",
              "      <th>2</th>\n",
              "      <td>NaN</td>\n",
              "      <td>FORD</td>\n",
              "      <td>ECOSPORT</td>\n",
              "      <td>2020</td>\n",
              "      <td>2019</td>\n",
              "      <td>ATÉ 15 (KM)</td>\n",
              "      <td>6830</td>\n",
              "      <td>81070.00</td>\n",
              "      <td>PJ</td>\n",
              "      <td>ECOSPORT SE 1.5 12V FLEX 4P C/AR - AUTOMATICO</td>\n",
              "      <td>OSASCO</td>\n",
              "      <td>SP</td>\n",
              "      <td>BR</td>\n",
              "      <td>NaN</td>\n",
              "      <td>LOCALIZA</td>\n",
              "      <td>Localiza</td>\n",
              "      <td>108256</td>\n",
              "      <td>https://seminovos.localiza.com/ford_ecosport_s...</td>\n",
              "      <td>2021-07-30</td>\n",
              "      <td>FORD-ECOSPORT</td>\n",
              "      <td>SP-OSASCO</td>\n",
              "    </tr>\n",
              "    <tr>\n",
              "      <th>4</th>\n",
              "      <td>NaN</td>\n",
              "      <td>JEEP</td>\n",
              "      <td>RENEGADE</td>\n",
              "      <td>2019</td>\n",
              "      <td>2019</td>\n",
              "      <td>ATÉ 15 (KM)</td>\n",
              "      <td>7496</td>\n",
              "      <td>94060.00</td>\n",
              "      <td>PJ</td>\n",
              "      <td>RENEGADE LONGITUDE 1.8 16V FLEX 4P C/AR - AUTO...</td>\n",
              "      <td>NITEROI</td>\n",
              "      <td>RJ</td>\n",
              "      <td>BR</td>\n",
              "      <td>NaN</td>\n",
              "      <td>LOCALIZA</td>\n",
              "      <td>Localiza</td>\n",
              "      <td>110387</td>\n",
              "      <td>https://seminovos.localiza.com/jeep_renegade_l...</td>\n",
              "      <td>2021-07-30</td>\n",
              "      <td>JEEP-RENEGADE</td>\n",
              "      <td>RJ-NITEROI</td>\n",
              "    </tr>\n",
              "    <tr>\n",
              "      <th>5</th>\n",
              "      <td>NaN</td>\n",
              "      <td>FORD</td>\n",
              "      <td>ECOSPORT</td>\n",
              "      <td>2020</td>\n",
              "      <td>2019</td>\n",
              "      <td>ATÉ 15 (KM)</td>\n",
              "      <td>7991</td>\n",
              "      <td>81070.00</td>\n",
              "      <td>PJ</td>\n",
              "      <td>ECOSPORT SE 1.5 12V FLEX 4P C/AR - AUTOMATICO</td>\n",
              "      <td>MOGI DAS CRUZES</td>\n",
              "      <td>SP</td>\n",
              "      <td>BR</td>\n",
              "      <td>NaN</td>\n",
              "      <td>LOCALIZA</td>\n",
              "      <td>Localiza</td>\n",
              "      <td>109137</td>\n",
              "      <td>https://seminovos.localiza.com/ford_ecosport_s...</td>\n",
              "      <td>2021-07-30</td>\n",
              "      <td>FORD-ECOSPORT</td>\n",
              "      <td>SP-MOGI DAS CRUZES</td>\n",
              "    </tr>\n",
              "    <tr>\n",
              "      <th>6</th>\n",
              "      <td>NaN</td>\n",
              "      <td>FORD</td>\n",
              "      <td>ECOSPORT</td>\n",
              "      <td>2020</td>\n",
              "      <td>2019</td>\n",
              "      <td>ATÉ 15 (KM)</td>\n",
              "      <td>8583</td>\n",
              "      <td>80750.00</td>\n",
              "      <td>PJ</td>\n",
              "      <td>ECOSPORT SE 1.5 12V FLEX 4P C/AR - AUTOMATICO</td>\n",
              "      <td>SAO PAULO</td>\n",
              "      <td>SP</td>\n",
              "      <td>BR</td>\n",
              "      <td>NaN</td>\n",
              "      <td>LOCALIZA</td>\n",
              "      <td>Localiza</td>\n",
              "      <td>110078</td>\n",
              "      <td>https://seminovos.localiza.com/ford_ecosport_s...</td>\n",
              "      <td>2021-07-30</td>\n",
              "      <td>FORD-ECOSPORT</td>\n",
              "      <td>SP-SAO PAULO</td>\n",
              "    </tr>\n",
              "  </tbody>\n",
              "</table>\n",
              "</div>"
            ],
            "text/plain": [
              "  CodigoFipe Marca    Modelo  ...       DATA    MarcaModelo        EstadoCidade\n",
              "1        NaN  FORD  ECOSPORT  ... 2021-07-30  FORD-ECOSPORT        SP-SAO PAULO\n",
              "2        NaN  FORD  ECOSPORT  ... 2021-07-30  FORD-ECOSPORT           SP-OSASCO\n",
              "4        NaN  JEEP  RENEGADE  ... 2021-07-30  JEEP-RENEGADE          RJ-NITEROI\n",
              "5        NaN  FORD  ECOSPORT  ... 2021-07-30  FORD-ECOSPORT  SP-MOGI DAS CRUZES\n",
              "6        NaN  FORD  ECOSPORT  ... 2021-07-30  FORD-ECOSPORT        SP-SAO PAULO\n",
              "\n",
              "[5 rows x 21 columns]"
            ]
          },
          "metadata": {},
          "execution_count": 45
        }
      ]
    },
    {
      "cell_type": "markdown",
      "metadata": {
        "id": "9xodDajVfQgh"
      },
      "source": [
        "------------------------------\n",
        "### Grafico de Barras por EstadoCidade"
      ]
    },
    {
      "cell_type": "code",
      "metadata": {
        "id": "D1IKNpcgjWoh"
      },
      "source": [
        "#Bloco 4: Agrupando Somatório de PrecoAnuncio por EstadoCidade\n",
        "EstadoCidade_precos = df_limpo[['EstadoCidade', 'PrecoAnuncio']].groupby('EstadoCidade').sum('PrecoAnuncio').sort_values('PrecoAnuncio', ascending = False)\n",
        "EstadoCidade_precos = EstadoCidade_precos.reset_index()\n",
        "EstadoCidade_precos[\"PrecoAnuncioMilhao\"] = EstadoCidade_precos[\"PrecoAnuncio\"] / 1000000"
      ],
      "execution_count": null,
      "outputs": []
    },
    {
      "cell_type": "code",
      "metadata": {
        "colab": {
          "base_uri": "https://localhost:8080/",
          "height": 441
        },
        "id": "BLHsyHhWjYSf",
        "outputId": "cb7472fc-6aaf-48bf-dff1-a4c14c75f8b0"
      },
      "source": [
        "#Bloco 4: Plotando Gráfico de barras acumulado por EstadoCidade\n",
        "fig, ax = plt.subplots(figsize=(10,6))\n",
        "EstadoCidade_precos.sort_values(by='PrecoAnuncioMilhao', ascending = False)[:5].plot(x='EstadoCidade', y='PrecoAnuncioMilhao', kind='bar', ax=ax)\n",
        "ax.set_title('Acumulado de valores (Preço dos Anuncios) por EstadoCidade')\n",
        "ax.set_xlabel('EstadoCidade')\n",
        "ax.set_ylabel('PrecoAnuncio Acumulado Por Milhão')\n",
        "\n",
        "plt.tight_layout()"
      ],
      "execution_count": null,
      "outputs": [
        {
          "output_type": "display_data",
          "data": {
            "image/png": "[encoded data removed]",
            "text/plain": [
              "<Figure size 720x432 with 1 Axes>"
            ]
          },
          "metadata": {
            "needs_background": "light"
          }
        }
      ]
    },
    {
      "cell_type": "markdown",
      "metadata": {
        "id": "_gwD0aNxfYFc"
      },
      "source": [
        "------------------------------\n",
        "### Grafico de Barras por MarcaModelo"
      ]
    },
    {
      "cell_type": "code",
      "metadata": {
        "id": "lU1pNepSj7_G"
      },
      "source": [
        "#Bloco 4: Agrupando Somatório de PrecoAnuncio por MarcaModelo\n",
        "MarcaModelo_precos = df_limpo[['MarcaModelo', 'PrecoAnuncio']].groupby('MarcaModelo').sum('PrecoAnuncio').sort_values('PrecoAnuncio', ascending = False)\n",
        "MarcaModelo_precos = MarcaModelo_precos.reset_index()\n",
        "MarcaModelo_precos[\"PrecoAnuncioMilhao\"] = MarcaModelo_precos[\"PrecoAnuncio\"] / 1000000"
      ],
      "execution_count": null,
      "outputs": []
    },
    {
      "cell_type": "code",
      "metadata": {
        "colab": {
          "base_uri": "https://localhost:8080/",
          "height": 441
        },
        "id": "hMj7M8fekEYY",
        "outputId": "763dc96d-123a-4fdf-a932-6b5d2ab2eabe"
      },
      "source": [
        "#Bloco 4: Plotando Gráfico de barras acumulado por MarcaModelo\n",
        "fig, ax = plt.subplots(figsize=(10,6))\n",
        "MarcaModelo_precos.sort_values(by='PrecoAnuncioMilhao', ascending = False)[:5].plot(x='MarcaModelo', y='PrecoAnuncioMilhao', kind='bar', ax=ax)\n",
        "ax.set_title('Acumulado de valores (Preço dos Anuncios) por MarcaModelo')\n",
        "ax.set_xlabel('MarcaModelo')\n",
        "ax.set_ylabel('PrecoAnuncio Acumulado Por Milhão')\n",
        "\n",
        "plt.tight_layout()"
      ],
      "execution_count": null,
      "outputs": [
        {
          "output_type": "display_data",
          "data": {
            "image/png": "[encoded data removed]",
            "text/plain": [
              "<Figure size 720x432 with 1 Axes>"
            ]
          },
          "metadata": {
            "needs_background": "light"
          }
        }
      ]
    },
    {
      "cell_type": "markdown",
      "metadata": {
        "id": "9Z5l_rJcgOsB"
      },
      "source": [
        "## Conclusões\n",
        "<img alt=\"Colaboratory logo\" width=\"20%\" src=\"https://encrypted-tbn0.gstatic.com/images?q=tbn:ANd9GcTDy3od-dO-kKw-E-Ses3mI6n1-3Yixhw75wA&usqp=CAU\">\n",
        "\n",
        "Com base em dados brutos obtidos do portal da **WebMotors**, efetuou-se uma análise exploratória referente aos dados de precçosde vendas de anúncios de veículos seminovos sob uma perspectiva que buscasse demonstrar os maiores valores acumulados agrupados por cateorias.\n",
        "\n",
        "O intuíto principal foi realizar uma análise de densidade destes preços anunciados, considerando Cidade, Estado, Quilometragem, Marca e Modelo, para identificar maiores perspectivas quanto ao mercado, fornecendo insumos para auxiliar na criação de estratégias para inserção de vepiculos seminovos neste mercado.\n",
        "\n",
        "**Ao final** foi possível demonstrar que São Paulo permanece como maior mercado com diferença considerável para os demais estados.\n",
        "\n",
        "**Importante** deixar aqui registrado que este trabalho não esgota as possibilidades de análises e geração de *insights* possíveis mesmo nesta massa de dados utilizada. \n",
        "\n",
        "Uma análise exploratória muito mais rica pode, inclusive, ser obtida com o conjunto de dados com maiores variáveis."
      ]
    }
  ]
}